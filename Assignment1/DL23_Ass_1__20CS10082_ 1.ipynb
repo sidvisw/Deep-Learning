{
  "cells": [
    {
      "cell_type": "markdown",
      "metadata": {
        "id": "FBKdMbwfvq-W"
      },
      "source": [
        "# About: Deep Learning '23 Assignment 1\n",
        "\n",
        "\n",
        "We will perform Image Classification task on the MNIST dataset which has 70,000 28*28 images labelled into 10 classes. \n",
        "\n",
        "**Total Marks: 60**\n",
        "\n",
        "\n",
        "**Fill these**\n",
        "\n",
        "Name: `Sidharth Vishwakarma`\n",
        "\n",
        "Roll Number: `20CS10082`\n",
        "\n",
        "**Instructions:**\n",
        "\n",
        "1. We have left code cells blank for you to fill up with appropriate code. Do not add any extra code cells. Strictly follow the format and fill up the cells with the correct code. Refer to cell comments for what to fill in that cell.\n",
        "\n",
        "2. *Do not* use any training frameworks like PyTorch Lightning. This assignment will test your ability to write custom training loops.\n",
        "\n",
        "3. Save the notebook with cell outputs of all cells. The cell outputs  will be used for evaluating your submission.\n",
        "\n",
        "\n"
      ]
    },
    {
      "cell_type": "code",
      "execution_count": 1,
      "metadata": {
        "id": "b7yol97nxLq3"
      },
      "outputs": [],
      "source": [
        "import torch\n",
        "import torch.nn\n",
        "import random\n",
        "import numpy as np\n",
        "\n",
        "from torchvision import datasets, transforms\n",
        "from torch.utils.data import random_split, DataLoader\n",
        "\n",
        "\n",
        "## Add any other imports here\n",
        "import matplotlib.pyplot as plt"
      ]
    },
    {
      "cell_type": "code",
      "execution_count": 2,
      "metadata": {
        "id": "Lv07aCHK0IhG"
      },
      "outputs": [],
      "source": [
        "SEED=42\n",
        "torch.manual_seed(SEED)\n",
        "random.seed(SEED)\n",
        "np.random.seed(SEED)"
      ]
    },
    {
      "cell_type": "markdown",
      "metadata": {
        "id": "HU_56fBhx2H4"
      },
      "source": [
        "## Getting the data"
      ]
    },
    {
      "cell_type": "code",
      "execution_count": 3,
      "metadata": {
        "colab": {
          "base_uri": "https://localhost:8080/",
          "height": 460,
          "referenced_widgets": [
            "6dae5f9e1b55473c9eff54fa82a0f478",
            "c261a5200f3c484a9975847a28964151",
            "cdb05c704e7c4da4805fa5f8970b972e",
            "b25c7b46e8b74143aec3e124195cbd87",
            "7c1cf25f03f4406aaef060adca3e296b",
            "2716f826f1cb4678b28dfdb94fc97add",
            "cda09cc3a366427493263f818267e542",
            "61198af28e3a4954bd9a2c33d731184c",
            "d6e7d318a13342d69ae2ff296fa34783",
            "f01c57b86ae4403694dd8a660fc5585c",
            "72c646f893df424e8fba6204e5d1f4ca",
            "1300dc0cdc914253ae7a9742f17cdb24",
            "7cf527dd2f2f41dcaff5ecd3dd53a9fa",
            "be54595a505c4e8297f05be7ca03b826",
            "932df4737503432c8d434d7c0aa715d3",
            "0a870523cdd9482b9a11f3309a42fb2d",
            "56bff3b2df3c44d09b925cc044f85325",
            "80f9569ea5124309bb4ee0e989813ffc",
            "9131c5a0ab1a4e5e81795bf27aaab6c2",
            "a0fb500300ce43cebae7e9158e971d2e",
            "c5cb1e9006854225898e9e555fc9d963",
            "0167bb3b5ded4d088e4d18f5c3a0817b",
            "88b3afae9a434920a9398d3ac4f2bde2",
            "2a1f869f43224b3cab38c8e6381ce962",
            "9e9db350ca3c4e09a6525af4264f0f8c",
            "a81628cb28644f8baad3562399bae8e5",
            "8a3165dbe2d644269a1204b07e553483",
            "f2083da4ab864d6d9b89823878ff0edd",
            "1d2267d9a8b74c8abc99a55d09bbfb24",
            "d09c1f4956f1450da0c8cecedc477afc",
            "7b210e47ba8d494abced03f6657f3364",
            "88c9432631c14c6ab0e8d716c378a075",
            "0a4b57f9b3664aa0a818ee36391c55ab",
            "59bec17818394a5c93b738b47cf03682",
            "32004305cd5f4726b311576bd1e096ca",
            "829275b171774641bd58cd6de23addaa",
            "722866fd758047e7bbff6342aab5809b",
            "ff1bfb31148f4103ac483fdcb927c26e",
            "c9a5c420bb19434c87e71e21023b8bc3",
            "413f4d28e2d6473e8d0f29b43d53b9e6",
            "297375fb239041fea0e665e0fb61225d",
            "8829666185ba42b180c3ec3491e8a678",
            "a7fc04b43ce2468b9489a23617215938",
            "7e9266148326455d97f9f8eeb22d3cd4"
          ]
        },
        "id": "CfV1pXYtyAfW",
        "outputId": "1c3e1fc5-cc94-41bb-fed4-618619310d41"
      },
      "outputs": [
        {
          "name": "stdout",
          "output_type": "stream",
          "text": [
            "Downloading http://yann.lecun.com/exdb/mnist/train-images-idx3-ubyte.gz\n",
            "Downloading http://yann.lecun.com/exdb/mnist/train-images-idx3-ubyte.gz to data/MNIST/raw/train-images-idx3-ubyte.gz\n"
          ]
        },
        {
          "data": {
            "application/vnd.jupyter.widget-view+json": {
              "model_id": "6dae5f9e1b55473c9eff54fa82a0f478",
              "version_major": 2,
              "version_minor": 0
            },
            "text/plain": [
              "  0%|          | 0/9912422 [00:00<?, ?it/s]"
            ]
          },
          "metadata": {},
          "output_type": "display_data"
        },
        {
          "name": "stdout",
          "output_type": "stream",
          "text": [
            "Extracting data/MNIST/raw/train-images-idx3-ubyte.gz to data/MNIST/raw\n",
            "\n",
            "Downloading http://yann.lecun.com/exdb/mnist/train-labels-idx1-ubyte.gz\n",
            "Downloading http://yann.lecun.com/exdb/mnist/train-labels-idx1-ubyte.gz to data/MNIST/raw/train-labels-idx1-ubyte.gz\n"
          ]
        },
        {
          "data": {
            "application/vnd.jupyter.widget-view+json": {
              "model_id": "1300dc0cdc914253ae7a9742f17cdb24",
              "version_major": 2,
              "version_minor": 0
            },
            "text/plain": [
              "  0%|          | 0/28881 [00:00<?, ?it/s]"
            ]
          },
          "metadata": {},
          "output_type": "display_data"
        },
        {
          "name": "stdout",
          "output_type": "stream",
          "text": [
            "Extracting data/MNIST/raw/train-labels-idx1-ubyte.gz to data/MNIST/raw\n",
            "\n",
            "Downloading http://yann.lecun.com/exdb/mnist/t10k-images-idx3-ubyte.gz\n",
            "Downloading http://yann.lecun.com/exdb/mnist/t10k-images-idx3-ubyte.gz to data/MNIST/raw/t10k-images-idx3-ubyte.gz\n"
          ]
        },
        {
          "data": {
            "application/vnd.jupyter.widget-view+json": {
              "model_id": "88b3afae9a434920a9398d3ac4f2bde2",
              "version_major": 2,
              "version_minor": 0
            },
            "text/plain": [
              "  0%|          | 0/1648877 [00:00<?, ?it/s]"
            ]
          },
          "metadata": {},
          "output_type": "display_data"
        },
        {
          "name": "stdout",
          "output_type": "stream",
          "text": [
            "Extracting data/MNIST/raw/t10k-images-idx3-ubyte.gz to data/MNIST/raw\n",
            "\n",
            "Downloading http://yann.lecun.com/exdb/mnist/t10k-labels-idx1-ubyte.gz\n",
            "Downloading http://yann.lecun.com/exdb/mnist/t10k-labels-idx1-ubyte.gz to data/MNIST/raw/t10k-labels-idx1-ubyte.gz\n"
          ]
        },
        {
          "data": {
            "application/vnd.jupyter.widget-view+json": {
              "model_id": "59bec17818394a5c93b738b47cf03682",
              "version_major": 2,
              "version_minor": 0
            },
            "text/plain": [
              "  0%|          | 0/4542 [00:00<?, ?it/s]"
            ]
          },
          "metadata": {},
          "output_type": "display_data"
        },
        {
          "name": "stdout",
          "output_type": "stream",
          "text": [
            "Extracting data/MNIST/raw/t10k-labels-idx1-ubyte.gz to data/MNIST/raw\n",
            "\n",
            "50000 10000 10000\n"
          ]
        }
      ],
      "source": [
        "train_data = datasets.MNIST('data', train=True, download=True, transform=transforms.ToTensor())\n",
        "test_data = datasets.MNIST('data', train=False, download=True, transform=transforms.ToTensor())\n",
        "train, val = random_split(train_data, [50000, 10000], generator=torch.Generator().manual_seed(SEED))\n",
        "\n",
        "train_loader = DataLoader(train, batch_size=64, shuffle=True)\n",
        "val_loader = DataLoader(val, batch_size=64, shuffle=False)\n",
        "test_loader = DataLoader(test_data, batch_size=64, shuffle=False)\n",
        "\n",
        "print(len(train), len(val), len(test_data))"
      ]
    },
    {
      "cell_type": "markdown",
      "metadata": {
        "id": "4xqWpnwu0mzj"
      },
      "source": [
        "## Defining the Model [18 marks]\n",
        "\n",
        "You will define 3 models, with 2, 3, 4 hidden layers respectively. Lets call these models A, B, C. We will be studying the comparitive performance of these 3 models on this task.\n",
        "\n",
        "Use ReLU as the activation function for all three models. Later we will experiment with other activation functions as well."
      ]
    },
    {
      "cell_type": "markdown",
      "metadata": {
        "id": "30J_OmCoMm4S"
      },
      "source": [
        "### Model A\n",
        "\n",
        "Architecture:\n",
        "\n",
        "1. Input Layer \n",
        "2. Hidden Layer (Dimension Size - 64)\n",
        "3. Activation Function\n",
        "4. Hidden Layer (Dimension Size - 128)\n",
        "5. Activation Function\n",
        "6. Output Layer (Dimension Size = Number of Classes = 10)"
      ]
    },
    {
      "cell_type": "code",
      "execution_count": 4,
      "metadata": {
        "id": "WPGlwx0502pe"
      },
      "outputs": [],
      "source": [
        "# Model A Definition \n",
        "input_size = 28 * 28\n",
        "num_classes = 10\n",
        "\n",
        "class ModelA(torch.nn.Module):\n",
        "    def __init__(self, input_size, num_classes):\n",
        "        super(ModelA, self).__init__()\n",
        "        self.fc1 = torch.nn.Linear(input_size, 64)\n",
        "        self.fc2 = torch.nn.Linear(64, 128)\n",
        "        self.fc3 = torch.nn.Linear(128, num_classes)\n",
        "        self.relu = torch.nn.ReLU()\n",
        "    \n",
        "    def forward(self, x):\n",
        "        x = self.fc1(x)\n",
        "        x = self.relu(x)\n",
        "        x = self.fc2(x)\n",
        "        x = self.relu(x)\n",
        "        x = self.fc3(x)\n",
        "        return x\n",
        "\n",
        "\n",
        "# Fill in appropriately while maintaining the name of the variable\n",
        "modelA = ModelA(input_size,num_classes)"
      ]
    },
    {
      "cell_type": "markdown",
      "metadata": {
        "id": "0K0nfqCvMqA9"
      },
      "source": [
        "### Model B\n",
        "\n",
        "\n",
        "Architecture:\n",
        "\n",
        "1. Input Layer \n",
        "2. Hidden Layer (Dimension Size - 64)\n",
        "3. Activation Function\n",
        "4. Hidden Layer (Dimension Size - 128)\n",
        "5. Activation Function\n",
        "6. Hidden Layer (Dimension Size - 256)\n",
        "7. Activation Function\n",
        "8. Output Layer (Dimension Size = Number of Classes = 10)"
      ]
    },
    {
      "cell_type": "code",
      "execution_count": 5,
      "metadata": {
        "id": "AD5W0AJ908tI"
      },
      "outputs": [],
      "source": [
        "# Model B Definiton\n",
        "input_size = 28 * 28\n",
        "num_classes = 10\n",
        "\n",
        "class ModelB(torch.nn.Module):\n",
        "    def __init__(self, input_size, num_classes):\n",
        "        super(ModelB, self).__init__()\n",
        "        self.fc1 = torch.nn.Linear(input_size, 64)\n",
        "        self.fc2 = torch.nn.Linear(64, 128)\n",
        "        self.fc3 = torch.nn.Linear(128, 256)\n",
        "        self.fc4 = torch.nn.Linear(256, num_classes)\n",
        "        self.relu = torch.nn.ReLU()\n",
        "    \n",
        "    def forward(self, x):\n",
        "        x = self.fc1(x)\n",
        "        x = self.relu(x)\n",
        "        x = self.fc2(x)\n",
        "        x = self.relu(x)\n",
        "        x = self.fc3(x)\n",
        "        x = self.relu(x)\n",
        "        x = self.fc4(x)\n",
        "        return x\n",
        "\n",
        "# Use the same variable name\n",
        "modelB = ModelB(input_size, num_classes)"
      ]
    },
    {
      "cell_type": "markdown",
      "metadata": {
        "id": "TPDoGu9mMr_x"
      },
      "source": [
        "### Model C\n",
        "\n",
        "\n",
        "Architecture\n",
        "\n",
        "1. Input Layer \n",
        "2. Hidden Layer (Dimension Size - 64)\n",
        "3. Activation Function\n",
        "4. Hidden Layer (Dimension Size - 128)\n",
        "5. Activation Function\n",
        "6. Hidden Layer (Dimension Size - 256)\n",
        "7. Activation Function\n",
        "8. Hidden Layer (Dimension Size - 512)\n",
        "9. Activation Function\n",
        "10. Output Layer (Dimension Size = Number of Classes = 10)"
      ]
    },
    {
      "cell_type": "code",
      "execution_count": 7,
      "metadata": {
        "id": "FAaOMMjY1Jna"
      },
      "outputs": [],
      "source": [
        "# Model C Definition\n",
        "input_size = 28 * 28\n",
        "num_classes = 10\n",
        "\n",
        "class ModelC(torch.nn.Module):\n",
        "    def __init__(self, input_size, num_classes):\n",
        "        super(ModelC, self).__init__()\n",
        "        self.fc1 = torch.nn.Linear(input_size, 64)\n",
        "        self.fc2 = torch.nn.Linear(64, 128)\n",
        "        self.fc3 = torch.nn.Linear(128, 256)\n",
        "        self.fc4 = torch.nn.Linear(256, 512)\n",
        "        self.fc5 = torch.nn.Linear(512, num_classes)\n",
        "        self.relu = torch.nn.ReLU()\n",
        "    \n",
        "    def forward(self, x):\n",
        "        x = self.fc1(x)\n",
        "        x = self.relu(x)\n",
        "        x = self.fc2(x)\n",
        "        x = self.relu(x)\n",
        "        x = self.fc3(x)\n",
        "        x = self.relu(x)\n",
        "        x = self.fc4(x)\n",
        "        x = self.relu(x)\n",
        "        x = self.fc5(x)\n",
        "        return x\n",
        "\n",
        "# Use the same variable name\n",
        "modelC = ModelC(input_size, num_classes)"
      ]
    },
    {
      "cell_type": "markdown",
      "metadata": {
        "id": "EFfgQVEz1Oqx"
      },
      "source": [
        "## Loss Function & Optimizer [2 marks]\n",
        "\n",
        "* Loss Function: Cross Entropy Loss\n",
        "* Optimizer : Adam\n",
        "\n",
        "Use PyTorch Library versions for these two."
      ]
    },
    {
      "cell_type": "code",
      "execution_count": 8,
      "metadata": {
        "id": "-z7ogUqL1WMV"
      },
      "outputs": [],
      "source": [
        "# Use the same variable names\n",
        "criterion = torch.nn.CrossEntropyLoss()\n",
        "optimizer = torch.optim.Adam"
      ]
    },
    {
      "cell_type": "markdown",
      "metadata": {
        "id": "OLnwW-h31oJa"
      },
      "source": [
        "## Training Loop [30 marks]\n",
        "\n",
        "We give you the freedom to choose Hyperparameters like learing rate, number of epochs etc, but take care to use the **same** hyperparameters for all the 3 models. Also clearly state the hyperparameters you have chosen\n",
        "\n",
        "For each model, You need to report these metrics: Train Loss, Val Loss, Train Accuracy, Val Accuracy at the end of each epoch.\n",
        "\n",
        "Also plot the graphs of the following (in separate cells)\n",
        "1. Train Loss & Val Loss V/s Epoch\n",
        "2. Train Accuracy & Val Accuracy V/s Epoch"
      ]
    },
    {
      "cell_type": "code",
      "execution_count": 9,
      "metadata": {
        "id": "3ZVpEI-N8L5X"
      },
      "outputs": [],
      "source": [
        "# Define the hyperparameters (same for all 3 models) here\n",
        "EPOCHS = 10\n",
        "LEARNING_RATE = 0.001\n",
        "\n",
        "optimizerA = optimizer(modelA.parameters(), lr=LEARNING_RATE)\n",
        "optimizerB = optimizer(modelB.parameters(), lr=LEARNING_RATE)\n",
        "optimizerC = optimizer(modelC.parameters(), lr=LEARNING_RATE)"
      ]
    },
    {
      "cell_type": "markdown",
      "metadata": {
        "id": "UMdreKgU24od"
      },
      "source": [
        "### Model A \n",
        "\n"
      ]
    },
    {
      "cell_type": "code",
      "execution_count": null,
      "metadata": {
        "id": "iyJ75sLw2Z5n"
      },
      "outputs": [],
      "source": [
        "# Training Loop for model A\n",
        "train_lossesA = []\n",
        "val_lossesA = []\n",
        "train_accA = []\n",
        "val_accA = []\n",
        "\n",
        "for epoch in range(EPOCHS):\n",
        "    train_loss = 0.0\n",
        "    val_loss = 0.0\n",
        "    train_correct = 0\n",
        "    val_correct = 0\n",
        "    \n",
        "    modelA.train()\n",
        "    for data, target in train_loader:\n",
        "        data = data.view(-1, 28*28)\n",
        "        optimizerA.zero_grad()\n",
        "        output = modelA(data)\n",
        "        loss = criterion(output, target)\n",
        "        loss.backward()\n",
        "        optimizerA.step()\n",
        "        train_loss += loss.item()\n",
        "        pred = output.data.max(1, keepdim=True)[1]\n",
        "        train_correct += pred.eq(target.data.view_as(pred)).sum()\n",
        "    \n",
        "    modelA.eval()\n",
        "    for data, target in val_loader:\n",
        "        data = data.view(-1, 28*28)\n",
        "        output = modelA(data)\n",
        "        loss = criterion(output, target)\n",
        "        val_loss += loss.item()\n",
        "        pred = output.data.max(1, keepdim=True)[1]\n",
        "        val_correct += pred.eq(target.data.view_as(pred)).sum()\n",
        "    \n",
        "    train_loss /= len(train_loader.dataset)\n",
        "    val_loss /= len(val_loader.dataset)\n",
        "    train_lossesA.append(train_loss)\n",
        "    val_lossesA.append(val_loss)\n",
        "    train_accA.append(100. * train_correct / len(train_loader.dataset))\n",
        "    val_accA.append(100. * val_correct / len(val_loader.dataset))\n",
        "    print('Epoch: {} \\tTraining Loss: {:.6f} \\tValidation Loss: {:.6f} \\tTraining Accuracy: {:.2f}% \\tValidation Accuracy: {:.2f}%'.format(\n",
        "        epoch, train_loss, val_loss, 100. * train_correct / len(train_loader.dataset), 100. * val_correct / len(val_loader.dataset)))"
      ]
    },
    {
      "cell_type": "code",
      "execution_count": null,
      "metadata": {
        "id": "Gk8Atveg2nPj"
      },
      "outputs": [],
      "source": [
        "# Plot Graph of Train & Val Loss vs Epoch (together in same plot) for model A\n",
        "plt.plot(train_lossesA, label='Training Loss')\n",
        "plt.plot(val_lossesA, label='Validation Loss' )\n",
        "plt.legend()\n",
        "plt.show()"
      ]
    },
    {
      "cell_type": "code",
      "execution_count": null,
      "metadata": {
        "id": "VGTWAn_22n0m"
      },
      "outputs": [],
      "source": [
        "# Plot Graph of Train & Val Accuracy vs Epoch (together in same plot) for model A\n",
        "plt.plot(train_accA, label='Training Accuracy')\n",
        "plt.plot(val_accA, label='Validation Accuracy')\n",
        "plt.legend()\n",
        "plt.show()"
      ]
    },
    {
      "cell_type": "markdown",
      "metadata": {
        "id": "X-kUp7pk28n-"
      },
      "source": [
        "### Model B\n"
      ]
    },
    {
      "cell_type": "code",
      "execution_count": null,
      "metadata": {
        "id": "jCmX8PqE22XP"
      },
      "outputs": [],
      "source": [
        "# Training Loop for model B\n",
        "train_lossesB = []\n",
        "val_lossesB = []\n",
        "train_accB = []\n",
        "val_accB = []\n",
        "\n",
        "for epoch in range(EPOCHS):\n",
        "    train_loss = 0.0\n",
        "    val_loss = 0.0\n",
        "    train_correct = 0\n",
        "    val_correct = 0\n",
        "    \n",
        "    modelB.train()\n",
        "    for data, target in train_loader:\n",
        "        data = data.view(-1, 28*28)\n",
        "        optimizerB.zero_grad()\n",
        "        output = modelB(data)\n",
        "        loss = criterion(output, target)\n",
        "        loss.backward()\n",
        "        optimizerB.step()\n",
        "        train_loss += loss.item()\n",
        "        pred = output.data.max(1, keepdim=True)[1]\n",
        "        train_correct += pred.eq(target.data.view_as(pred)).sum()\n",
        "    \n",
        "    modelB.eval()\n",
        "    for data, target in val_loader:\n",
        "        data = data.view(-1, 28*28)\n",
        "        output = modelB(data)\n",
        "        loss = criterion(output, target)\n",
        "        val_loss += loss.item()\n",
        "        pred = output.data.max(1, keepdim=True)[1]\n",
        "        val_correct += pred.eq(target.data.view_as(pred)).sum()\n",
        "    \n",
        "    train_loss /= len(train_loader.dataset)\n",
        "    val_loss /= len(val_loader.dataset)\n",
        "    train_lossesB.append(train_loss)\n",
        "    val_lossesB.append(val_loss)\n",
        "    train_accB.append(100. * train_correct / len(train_loader.dataset))\n",
        "    val_accB.append(100. * val_correct / len(val_loader.dataset))\n",
        "    print('Epoch: {} \\tTraining Loss: {:.6f} \\tValidation Loss: {:.6f} \\tTraining Accuracy: {:.2f}% \\tValidation Accuracy: {:.2f}%'.format(\n",
        "        epoch, train_loss, val_loss, 100. * train_correct / len(train_loader.dataset), 100. * val_correct / len(val_loader.dataset)))"
      ]
    },
    {
      "cell_type": "code",
      "execution_count": null,
      "metadata": {
        "id": "9pfLjJrI22XQ"
      },
      "outputs": [],
      "source": [
        "# Plot Graph of Train & Val Loss vs Epoch (together in same plot) for model B\n",
        "plt.plot(train_lossesB, label='Training Loss')\n",
        "plt.plot(val_lossesB, label='Validation Loss')\n",
        "plt.legend()\n",
        "plt.show()"
      ]
    },
    {
      "cell_type": "code",
      "execution_count": null,
      "metadata": {
        "id": "KOy6REpK22XQ"
      },
      "outputs": [],
      "source": [
        "# Plot Graph of Train & Val Accuracy vs Epoch (together in same plot) for model B\n",
        "plt.plot(train_accB, label='Training Accuracy')\n",
        "plt.plot(val_accB, label='Validation Accuracy')\n",
        "plt.legend()\n",
        "plt.show()"
      ]
    },
    {
      "cell_type": "markdown",
      "metadata": {
        "id": "4JslKXgq3AUT"
      },
      "source": [
        "### Model C\n"
      ]
    },
    {
      "cell_type": "code",
      "execution_count": null,
      "metadata": {
        "id": "2m3w2F5J22mq"
      },
      "outputs": [],
      "source": [
        "# Training Loop for model C\n",
        "train_lossesC = []\n",
        "val_lossesC = []\n",
        "train_accC = []\n",
        "val_accC = []\n",
        "\n",
        "for epoch in range(EPOCHS):\n",
        "    train_loss = 0.0\n",
        "    val_loss = 0.0\n",
        "    train_correct = 0\n",
        "    val_correct = 0\n",
        "    \n",
        "    modelC.train()\n",
        "    for data, target in train_loader:\n",
        "        data = data.view(-1, 28*28)\n",
        "        optimizerC.zero_grad()\n",
        "        output = modelC(data)\n",
        "        loss = criterion(output, target)\n",
        "        loss.backward()\n",
        "        optimizerC.step()\n",
        "        train_loss += loss.item()\n",
        "        pred = output.data.max(1, keepdim=True)[1]\n",
        "        train_correct += pred.eq(target.data.view_as(pred)).sum()\n",
        "    \n",
        "    modelC.eval()\n",
        "    for data, target in val_loader:\n",
        "        data = data.view(-1, 28*28)\n",
        "        output = modelC(data)\n",
        "        loss = criterion(output, target)\n",
        "        val_loss += loss.item()\n",
        "        pred = output.data.max(1, keepdim=True)[1]\n",
        "        val_correct += pred.eq(target.data.view_as(pred)).sum()\n",
        "    \n",
        "    train_loss /= len(train_loader.dataset)\n",
        "    val_loss /= len(val_loader.dataset)\n",
        "    train_lossesC.append(train_loss)\n",
        "    val_lossesC.append(val_loss)\n",
        "    train_accC.append(100. * train_correct / len(train_loader.dataset))\n",
        "    val_accC.append(100. * val_correct / len(val_loader.dataset))\n",
        "    print('Epoch: {} \\tTraining Loss: {:.6f} \\tValidation Loss: {:.6f} \\tTraining Accuracy: {:.2f}% \\tValidation Accuracy: {:.2f}%'.format(\n",
        "        epoch, train_loss, val_loss, 100. * train_correct / len(train_loader.dataset), 100. * val_correct / len(val_loader.dataset)))"
      ]
    },
    {
      "cell_type": "code",
      "execution_count": null,
      "metadata": {
        "id": "eN5XtgCl22mq"
      },
      "outputs": [],
      "source": [
        "# Plot Graph of Train & Val Loss vs Epoch (together in same plot) for model C\n",
        "plt.plot(train_lossesC, label='Training Loss')\n",
        "plt.plot(val_lossesC, label='Validation Loss')\n",
        "plt.legend()\n",
        "plt.show()"
      ]
    },
    {
      "cell_type": "code",
      "execution_count": null,
      "metadata": {
        "id": "xwOen7-V22mr"
      },
      "outputs": [],
      "source": [
        "# Plot Graph of Train & Val Accuracy vs Epoch (together in same plot) for model C\n",
        "plt.plot(train_accC, label='Training Accuracy')\n",
        "plt.plot(val_accC, label='Validation Accuracy')\n",
        "plt.legend()\n",
        "plt.show()"
      ]
    },
    {
      "cell_type": "markdown",
      "metadata": {
        "id": "AZuT5E_r3LbK"
      },
      "source": [
        "## Choosing a Activation Function [10 marks]\n",
        "\n",
        "Based on the best performing model you found above, define 2 more models with these 2 activation functions (1 activation function is used throughout the model definiation). Use these Activation funcitons \n",
        "\n",
        "\n",
        "*   Tanh\n",
        "*   LeakyRELU"
      ]
    },
    {
      "cell_type": "code",
      "execution_count": null,
      "metadata": {
        "id": "uhAK1dvg3vkf"
      },
      "outputs": [],
      "source": [
        "# Leaky ReLU model definiton\n",
        "\n",
        "# Tanh model definition\n",
        "\n",
        "\n",
        "# Maintain these variable names\n",
        "model_lrelu = ...\n",
        "model_tanh = ..."
      ]
    },
    {
      "cell_type": "markdown",
      "metadata": {
        "id": "3P1fzs0P4Anx"
      },
      "source": [
        "### Training \n",
        "\n",
        "Train these two models with the same hyperparameters. Train in separate cells given below, and report the same metrics descrived previously (train_loss, val_loss, train_acc, val_acc)"
      ]
    },
    {
      "cell_type": "code",
      "execution_count": null,
      "metadata": {
        "id": "-OAT_Rx64T0a"
      },
      "outputs": [],
      "source": [
        "# Training Loop for LRELU"
      ]
    },
    {
      "cell_type": "code",
      "execution_count": null,
      "metadata": {
        "id": "QuobAEP44Wrz"
      },
      "outputs": [],
      "source": [
        "# Training Loop for TanH"
      ]
    },
    {
      "cell_type": "markdown",
      "metadata": {
        "id": "WjH0LdKA4tYW"
      },
      "source": [
        "### Results on Test Set\n",
        "\n",
        "Report the Test Set classfication accuracy for the three activation functions (ReLU, LeakyReLU & TanH) and state which activation function gave the best performance on test set"
      ]
    },
    {
      "cell_type": "code",
      "execution_count": null,
      "metadata": {
        "id": "gFeLvSrN4vT_"
      },
      "outputs": [],
      "source": [
        "# Define how to calculate Accuracy on Test Set"
      ]
    },
    {
      "cell_type": "code",
      "execution_count": null,
      "metadata": {
        "id": "q8dhJf4W7cKu"
      },
      "outputs": [],
      "source": [
        "# Accuracy of RELU model"
      ]
    },
    {
      "cell_type": "code",
      "execution_count": null,
      "metadata": {
        "id": "Uouc_R9t7cV3"
      },
      "outputs": [],
      "source": [
        "# Accuracy of TanH model"
      ]
    },
    {
      "cell_type": "code",
      "execution_count": null,
      "metadata": {
        "id": "tjLBwh577chM"
      },
      "outputs": [],
      "source": [
        "# Accuracy of LeakyReLU model"
      ]
    },
    {
      "cell_type": "markdown",
      "metadata": {
        "id": "5xelRHJV7Lmj"
      },
      "source": [
        "Fill in these with the values you obtained from training.\n",
        "\n",
        "* ReLU model Test Set Accuracy: `....` %\n",
        "* TanH model Test Set Accuracy: `....` %\n",
        "* LeakReLU model Test Set Accuracy: `....` %"
      ]
    }
  ],
  "metadata": {
    "accelerator": "GPU",
    "colab": {
      "provenance": []
    },
    "gpuClass": "standard",
    "kernelspec": {
      "display_name": "Python 3",
      "language": "python",
      "name": "python3"
    },
    "language_info": {
      "name": "python",
      "version": "3.10.6"
    },
    "vscode": {
      "interpreter": {
        "hash": "916dbcbb3f70747c44a77c7bcd40155683ae19c65e1c03b4aa3499c5328201f1"
      }
    },
    "widgets": {
      "application/vnd.jupyter.widget-state+json": {
        "0167bb3b5ded4d088e4d18f5c3a0817b": {
          "model_module": "@jupyter-widgets/controls",
          "model_module_version": "1.5.0",
          "model_name": "DescriptionStyleModel",
          "state": {
            "_model_module": "@jupyter-widgets/controls",
            "_model_module_version": "1.5.0",
            "_model_name": "DescriptionStyleModel",
            "_view_count": null,
            "_view_module": "@jupyter-widgets/base",
            "_view_module_version": "1.2.0",
            "_view_name": "StyleView",
            "description_width": ""
          }
        },
        "0a4b57f9b3664aa0a818ee36391c55ab": {
          "model_module": "@jupyter-widgets/controls",
          "model_module_version": "1.5.0",
          "model_name": "DescriptionStyleModel",
          "state": {
            "_model_module": "@jupyter-widgets/controls",
            "_model_module_version": "1.5.0",
            "_model_name": "DescriptionStyleModel",
            "_view_count": null,
            "_view_module": "@jupyter-widgets/base",
            "_view_module_version": "1.2.0",
            "_view_name": "StyleView",
            "description_width": ""
          }
        },
        "0a870523cdd9482b9a11f3309a42fb2d": {
          "model_module": "@jupyter-widgets/base",
          "model_module_version": "1.2.0",
          "model_name": "LayoutModel",
          "state": {
            "_model_module": "@jupyter-widgets/base",
            "_model_module_version": "1.2.0",
            "_model_name": "LayoutModel",
            "_view_count": null,
            "_view_module": "@jupyter-widgets/base",
            "_view_module_version": "1.2.0",
            "_view_name": "LayoutView",
            "align_content": null,
            "align_items": null,
            "align_self": null,
            "border": null,
            "bottom": null,
            "display": null,
            "flex": null,
            "flex_flow": null,
            "grid_area": null,
            "grid_auto_columns": null,
            "grid_auto_flow": null,
            "grid_auto_rows": null,
            "grid_column": null,
            "grid_gap": null,
            "grid_row": null,
            "grid_template_areas": null,
            "grid_template_columns": null,
            "grid_template_rows": null,
            "height": null,
            "justify_content": null,
            "justify_items": null,
            "left": null,
            "margin": null,
            "max_height": null,
            "max_width": null,
            "min_height": null,
            "min_width": null,
            "object_fit": null,
            "object_position": null,
            "order": null,
            "overflow": null,
            "overflow_x": null,
            "overflow_y": null,
            "padding": null,
            "right": null,
            "top": null,
            "visibility": null,
            "width": null
          }
        },
        "1300dc0cdc914253ae7a9742f17cdb24": {
          "model_module": "@jupyter-widgets/controls",
          "model_module_version": "1.5.0",
          "model_name": "HBoxModel",
          "state": {
            "_dom_classes": [],
            "_model_module": "@jupyter-widgets/controls",
            "_model_module_version": "1.5.0",
            "_model_name": "HBoxModel",
            "_view_count": null,
            "_view_module": "@jupyter-widgets/controls",
            "_view_module_version": "1.5.0",
            "_view_name": "HBoxView",
            "box_style": "",
            "children": [
              "IPY_MODEL_7cf527dd2f2f41dcaff5ecd3dd53a9fa",
              "IPY_MODEL_be54595a505c4e8297f05be7ca03b826",
              "IPY_MODEL_932df4737503432c8d434d7c0aa715d3"
            ],
            "layout": "IPY_MODEL_0a870523cdd9482b9a11f3309a42fb2d"
          }
        },
        "1d2267d9a8b74c8abc99a55d09bbfb24": {
          "model_module": "@jupyter-widgets/controls",
          "model_module_version": "1.5.0",
          "model_name": "DescriptionStyleModel",
          "state": {
            "_model_module": "@jupyter-widgets/controls",
            "_model_module_version": "1.5.0",
            "_model_name": "DescriptionStyleModel",
            "_view_count": null,
            "_view_module": "@jupyter-widgets/base",
            "_view_module_version": "1.2.0",
            "_view_name": "StyleView",
            "description_width": ""
          }
        },
        "2716f826f1cb4678b28dfdb94fc97add": {
          "model_module": "@jupyter-widgets/base",
          "model_module_version": "1.2.0",
          "model_name": "LayoutModel",
          "state": {
            "_model_module": "@jupyter-widgets/base",
            "_model_module_version": "1.2.0",
            "_model_name": "LayoutModel",
            "_view_count": null,
            "_view_module": "@jupyter-widgets/base",
            "_view_module_version": "1.2.0",
            "_view_name": "LayoutView",
            "align_content": null,
            "align_items": null,
            "align_self": null,
            "border": null,
            "bottom": null,
            "display": null,
            "flex": null,
            "flex_flow": null,
            "grid_area": null,
            "grid_auto_columns": null,
            "grid_auto_flow": null,
            "grid_auto_rows": null,
            "grid_column": null,
            "grid_gap": null,
            "grid_row": null,
            "grid_template_areas": null,
            "grid_template_columns": null,
            "grid_template_rows": null,
            "height": null,
            "justify_content": null,
            "justify_items": null,
            "left": null,
            "margin": null,
            "max_height": null,
            "max_width": null,
            "min_height": null,
            "min_width": null,
            "object_fit": null,
            "object_position": null,
            "order": null,
            "overflow": null,
            "overflow_x": null,
            "overflow_y": null,
            "padding": null,
            "right": null,
            "top": null,
            "visibility": null,
            "width": null
          }
        },
        "297375fb239041fea0e665e0fb61225d": {
          "model_module": "@jupyter-widgets/base",
          "model_module_version": "1.2.0",
          "model_name": "LayoutModel",
          "state": {
            "_model_module": "@jupyter-widgets/base",
            "_model_module_version": "1.2.0",
            "_model_name": "LayoutModel",
            "_view_count": null,
            "_view_module": "@jupyter-widgets/base",
            "_view_module_version": "1.2.0",
            "_view_name": "LayoutView",
            "align_content": null,
            "align_items": null,
            "align_self": null,
            "border": null,
            "bottom": null,
            "display": null,
            "flex": null,
            "flex_flow": null,
            "grid_area": null,
            "grid_auto_columns": null,
            "grid_auto_flow": null,
            "grid_auto_rows": null,
            "grid_column": null,
            "grid_gap": null,
            "grid_row": null,
            "grid_template_areas": null,
            "grid_template_columns": null,
            "grid_template_rows": null,
            "height": null,
            "justify_content": null,
            "justify_items": null,
            "left": null,
            "margin": null,
            "max_height": null,
            "max_width": null,
            "min_height": null,
            "min_width": null,
            "object_fit": null,
            "object_position": null,
            "order": null,
            "overflow": null,
            "overflow_x": null,
            "overflow_y": null,
            "padding": null,
            "right": null,
            "top": null,
            "visibility": null,
            "width": null
          }
        },
        "2a1f869f43224b3cab38c8e6381ce962": {
          "model_module": "@jupyter-widgets/controls",
          "model_module_version": "1.5.0",
          "model_name": "HTMLModel",
          "state": {
            "_dom_classes": [],
            "_model_module": "@jupyter-widgets/controls",
            "_model_module_version": "1.5.0",
            "_model_name": "HTMLModel",
            "_view_count": null,
            "_view_module": "@jupyter-widgets/controls",
            "_view_module_version": "1.5.0",
            "_view_name": "HTMLView",
            "description": "",
            "description_tooltip": null,
            "layout": "IPY_MODEL_f2083da4ab864d6d9b89823878ff0edd",
            "placeholder": "​",
            "style": "IPY_MODEL_1d2267d9a8b74c8abc99a55d09bbfb24",
            "value": "100%"
          }
        },
        "32004305cd5f4726b311576bd1e096ca": {
          "model_module": "@jupyter-widgets/controls",
          "model_module_version": "1.5.0",
          "model_name": "HTMLModel",
          "state": {
            "_dom_classes": [],
            "_model_module": "@jupyter-widgets/controls",
            "_model_module_version": "1.5.0",
            "_model_name": "HTMLModel",
            "_view_count": null,
            "_view_module": "@jupyter-widgets/controls",
            "_view_module_version": "1.5.0",
            "_view_name": "HTMLView",
            "description": "",
            "description_tooltip": null,
            "layout": "IPY_MODEL_c9a5c420bb19434c87e71e21023b8bc3",
            "placeholder": "​",
            "style": "IPY_MODEL_413f4d28e2d6473e8d0f29b43d53b9e6",
            "value": "100%"
          }
        },
        "413f4d28e2d6473e8d0f29b43d53b9e6": {
          "model_module": "@jupyter-widgets/controls",
          "model_module_version": "1.5.0",
          "model_name": "DescriptionStyleModel",
          "state": {
            "_model_module": "@jupyter-widgets/controls",
            "_model_module_version": "1.5.0",
            "_model_name": "DescriptionStyleModel",
            "_view_count": null,
            "_view_module": "@jupyter-widgets/base",
            "_view_module_version": "1.2.0",
            "_view_name": "StyleView",
            "description_width": ""
          }
        },
        "56bff3b2df3c44d09b925cc044f85325": {
          "model_module": "@jupyter-widgets/base",
          "model_module_version": "1.2.0",
          "model_name": "LayoutModel",
          "state": {
            "_model_module": "@jupyter-widgets/base",
            "_model_module_version": "1.2.0",
            "_model_name": "LayoutModel",
            "_view_count": null,
            "_view_module": "@jupyter-widgets/base",
            "_view_module_version": "1.2.0",
            "_view_name": "LayoutView",
            "align_content": null,
            "align_items": null,
            "align_self": null,
            "border": null,
            "bottom": null,
            "display": null,
            "flex": null,
            "flex_flow": null,
            "grid_area": null,
            "grid_auto_columns": null,
            "grid_auto_flow": null,
            "grid_auto_rows": null,
            "grid_column": null,
            "grid_gap": null,
            "grid_row": null,
            "grid_template_areas": null,
            "grid_template_columns": null,
            "grid_template_rows": null,
            "height": null,
            "justify_content": null,
            "justify_items": null,
            "left": null,
            "margin": null,
            "max_height": null,
            "max_width": null,
            "min_height": null,
            "min_width": null,
            "object_fit": null,
            "object_position": null,
            "order": null,
            "overflow": null,
            "overflow_x": null,
            "overflow_y": null,
            "padding": null,
            "right": null,
            "top": null,
            "visibility": null,
            "width": null
          }
        },
        "59bec17818394a5c93b738b47cf03682": {
          "model_module": "@jupyter-widgets/controls",
          "model_module_version": "1.5.0",
          "model_name": "HBoxModel",
          "state": {
            "_dom_classes": [],
            "_model_module": "@jupyter-widgets/controls",
            "_model_module_version": "1.5.0",
            "_model_name": "HBoxModel",
            "_view_count": null,
            "_view_module": "@jupyter-widgets/controls",
            "_view_module_version": "1.5.0",
            "_view_name": "HBoxView",
            "box_style": "",
            "children": [
              "IPY_MODEL_32004305cd5f4726b311576bd1e096ca",
              "IPY_MODEL_829275b171774641bd58cd6de23addaa",
              "IPY_MODEL_722866fd758047e7bbff6342aab5809b"
            ],
            "layout": "IPY_MODEL_ff1bfb31148f4103ac483fdcb927c26e"
          }
        },
        "61198af28e3a4954bd9a2c33d731184c": {
          "model_module": "@jupyter-widgets/base",
          "model_module_version": "1.2.0",
          "model_name": "LayoutModel",
          "state": {
            "_model_module": "@jupyter-widgets/base",
            "_model_module_version": "1.2.0",
            "_model_name": "LayoutModel",
            "_view_count": null,
            "_view_module": "@jupyter-widgets/base",
            "_view_module_version": "1.2.0",
            "_view_name": "LayoutView",
            "align_content": null,
            "align_items": null,
            "align_self": null,
            "border": null,
            "bottom": null,
            "display": null,
            "flex": null,
            "flex_flow": null,
            "grid_area": null,
            "grid_auto_columns": null,
            "grid_auto_flow": null,
            "grid_auto_rows": null,
            "grid_column": null,
            "grid_gap": null,
            "grid_row": null,
            "grid_template_areas": null,
            "grid_template_columns": null,
            "grid_template_rows": null,
            "height": null,
            "justify_content": null,
            "justify_items": null,
            "left": null,
            "margin": null,
            "max_height": null,
            "max_width": null,
            "min_height": null,
            "min_width": null,
            "object_fit": null,
            "object_position": null,
            "order": null,
            "overflow": null,
            "overflow_x": null,
            "overflow_y": null,
            "padding": null,
            "right": null,
            "top": null,
            "visibility": null,
            "width": null
          }
        },
        "6dae5f9e1b55473c9eff54fa82a0f478": {
          "model_module": "@jupyter-widgets/controls",
          "model_module_version": "1.5.0",
          "model_name": "HBoxModel",
          "state": {
            "_dom_classes": [],
            "_model_module": "@jupyter-widgets/controls",
            "_model_module_version": "1.5.0",
            "_model_name": "HBoxModel",
            "_view_count": null,
            "_view_module": "@jupyter-widgets/controls",
            "_view_module_version": "1.5.0",
            "_view_name": "HBoxView",
            "box_style": "",
            "children": [
              "IPY_MODEL_c261a5200f3c484a9975847a28964151",
              "IPY_MODEL_cdb05c704e7c4da4805fa5f8970b972e",
              "IPY_MODEL_b25c7b46e8b74143aec3e124195cbd87"
            ],
            "layout": "IPY_MODEL_7c1cf25f03f4406aaef060adca3e296b"
          }
        },
        "722866fd758047e7bbff6342aab5809b": {
          "model_module": "@jupyter-widgets/controls",
          "model_module_version": "1.5.0",
          "model_name": "HTMLModel",
          "state": {
            "_dom_classes": [],
            "_model_module": "@jupyter-widgets/controls",
            "_model_module_version": "1.5.0",
            "_model_name": "HTMLModel",
            "_view_count": null,
            "_view_module": "@jupyter-widgets/controls",
            "_view_module_version": "1.5.0",
            "_view_name": "HTMLView",
            "description": "",
            "description_tooltip": null,
            "layout": "IPY_MODEL_a7fc04b43ce2468b9489a23617215938",
            "placeholder": "​",
            "style": "IPY_MODEL_7e9266148326455d97f9f8eeb22d3cd4",
            "value": " 4542/4542 [00:00&lt;00:00, 286461.19it/s]"
          }
        },
        "72c646f893df424e8fba6204e5d1f4ca": {
          "model_module": "@jupyter-widgets/controls",
          "model_module_version": "1.5.0",
          "model_name": "DescriptionStyleModel",
          "state": {
            "_model_module": "@jupyter-widgets/controls",
            "_model_module_version": "1.5.0",
            "_model_name": "DescriptionStyleModel",
            "_view_count": null,
            "_view_module": "@jupyter-widgets/base",
            "_view_module_version": "1.2.0",
            "_view_name": "StyleView",
            "description_width": ""
          }
        },
        "7b210e47ba8d494abced03f6657f3364": {
          "model_module": "@jupyter-widgets/controls",
          "model_module_version": "1.5.0",
          "model_name": "ProgressStyleModel",
          "state": {
            "_model_module": "@jupyter-widgets/controls",
            "_model_module_version": "1.5.0",
            "_model_name": "ProgressStyleModel",
            "_view_count": null,
            "_view_module": "@jupyter-widgets/base",
            "_view_module_version": "1.2.0",
            "_view_name": "StyleView",
            "bar_color": null,
            "description_width": ""
          }
        },
        "7c1cf25f03f4406aaef060adca3e296b": {
          "model_module": "@jupyter-widgets/base",
          "model_module_version": "1.2.0",
          "model_name": "LayoutModel",
          "state": {
            "_model_module": "@jupyter-widgets/base",
            "_model_module_version": "1.2.0",
            "_model_name": "LayoutModel",
            "_view_count": null,
            "_view_module": "@jupyter-widgets/base",
            "_view_module_version": "1.2.0",
            "_view_name": "LayoutView",
            "align_content": null,
            "align_items": null,
            "align_self": null,
            "border": null,
            "bottom": null,
            "display": null,
            "flex": null,
            "flex_flow": null,
            "grid_area": null,
            "grid_auto_columns": null,
            "grid_auto_flow": null,
            "grid_auto_rows": null,
            "grid_column": null,
            "grid_gap": null,
            "grid_row": null,
            "grid_template_areas": null,
            "grid_template_columns": null,
            "grid_template_rows": null,
            "height": null,
            "justify_content": null,
            "justify_items": null,
            "left": null,
            "margin": null,
            "max_height": null,
            "max_width": null,
            "min_height": null,
            "min_width": null,
            "object_fit": null,
            "object_position": null,
            "order": null,
            "overflow": null,
            "overflow_x": null,
            "overflow_y": null,
            "padding": null,
            "right": null,
            "top": null,
            "visibility": null,
            "width": null
          }
        },
        "7cf527dd2f2f41dcaff5ecd3dd53a9fa": {
          "model_module": "@jupyter-widgets/controls",
          "model_module_version": "1.5.0",
          "model_name": "HTMLModel",
          "state": {
            "_dom_classes": [],
            "_model_module": "@jupyter-widgets/controls",
            "_model_module_version": "1.5.0",
            "_model_name": "HTMLModel",
            "_view_count": null,
            "_view_module": "@jupyter-widgets/controls",
            "_view_module_version": "1.5.0",
            "_view_name": "HTMLView",
            "description": "",
            "description_tooltip": null,
            "layout": "IPY_MODEL_56bff3b2df3c44d09b925cc044f85325",
            "placeholder": "​",
            "style": "IPY_MODEL_80f9569ea5124309bb4ee0e989813ffc",
            "value": "100%"
          }
        },
        "7e9266148326455d97f9f8eeb22d3cd4": {
          "model_module": "@jupyter-widgets/controls",
          "model_module_version": "1.5.0",
          "model_name": "DescriptionStyleModel",
          "state": {
            "_model_module": "@jupyter-widgets/controls",
            "_model_module_version": "1.5.0",
            "_model_name": "DescriptionStyleModel",
            "_view_count": null,
            "_view_module": "@jupyter-widgets/base",
            "_view_module_version": "1.2.0",
            "_view_name": "StyleView",
            "description_width": ""
          }
        },
        "80f9569ea5124309bb4ee0e989813ffc": {
          "model_module": "@jupyter-widgets/controls",
          "model_module_version": "1.5.0",
          "model_name": "DescriptionStyleModel",
          "state": {
            "_model_module": "@jupyter-widgets/controls",
            "_model_module_version": "1.5.0",
            "_model_name": "DescriptionStyleModel",
            "_view_count": null,
            "_view_module": "@jupyter-widgets/base",
            "_view_module_version": "1.2.0",
            "_view_name": "StyleView",
            "description_width": ""
          }
        },
        "829275b171774641bd58cd6de23addaa": {
          "model_module": "@jupyter-widgets/controls",
          "model_module_version": "1.5.0",
          "model_name": "FloatProgressModel",
          "state": {
            "_dom_classes": [],
            "_model_module": "@jupyter-widgets/controls",
            "_model_module_version": "1.5.0",
            "_model_name": "FloatProgressModel",
            "_view_count": null,
            "_view_module": "@jupyter-widgets/controls",
            "_view_module_version": "1.5.0",
            "_view_name": "ProgressView",
            "bar_style": "success",
            "description": "",
            "description_tooltip": null,
            "layout": "IPY_MODEL_297375fb239041fea0e665e0fb61225d",
            "max": 4542,
            "min": 0,
            "orientation": "horizontal",
            "style": "IPY_MODEL_8829666185ba42b180c3ec3491e8a678",
            "value": 4542
          }
        },
        "8829666185ba42b180c3ec3491e8a678": {
          "model_module": "@jupyter-widgets/controls",
          "model_module_version": "1.5.0",
          "model_name": "ProgressStyleModel",
          "state": {
            "_model_module": "@jupyter-widgets/controls",
            "_model_module_version": "1.5.0",
            "_model_name": "ProgressStyleModel",
            "_view_count": null,
            "_view_module": "@jupyter-widgets/base",
            "_view_module_version": "1.2.0",
            "_view_name": "StyleView",
            "bar_color": null,
            "description_width": ""
          }
        },
        "88b3afae9a434920a9398d3ac4f2bde2": {
          "model_module": "@jupyter-widgets/controls",
          "model_module_version": "1.5.0",
          "model_name": "HBoxModel",
          "state": {
            "_dom_classes": [],
            "_model_module": "@jupyter-widgets/controls",
            "_model_module_version": "1.5.0",
            "_model_name": "HBoxModel",
            "_view_count": null,
            "_view_module": "@jupyter-widgets/controls",
            "_view_module_version": "1.5.0",
            "_view_name": "HBoxView",
            "box_style": "",
            "children": [
              "IPY_MODEL_2a1f869f43224b3cab38c8e6381ce962",
              "IPY_MODEL_9e9db350ca3c4e09a6525af4264f0f8c",
              "IPY_MODEL_a81628cb28644f8baad3562399bae8e5"
            ],
            "layout": "IPY_MODEL_8a3165dbe2d644269a1204b07e553483"
          }
        },
        "88c9432631c14c6ab0e8d716c378a075": {
          "model_module": "@jupyter-widgets/base",
          "model_module_version": "1.2.0",
          "model_name": "LayoutModel",
          "state": {
            "_model_module": "@jupyter-widgets/base",
            "_model_module_version": "1.2.0",
            "_model_name": "LayoutModel",
            "_view_count": null,
            "_view_module": "@jupyter-widgets/base",
            "_view_module_version": "1.2.0",
            "_view_name": "LayoutView",
            "align_content": null,
            "align_items": null,
            "align_self": null,
            "border": null,
            "bottom": null,
            "display": null,
            "flex": null,
            "flex_flow": null,
            "grid_area": null,
            "grid_auto_columns": null,
            "grid_auto_flow": null,
            "grid_auto_rows": null,
            "grid_column": null,
            "grid_gap": null,
            "grid_row": null,
            "grid_template_areas": null,
            "grid_template_columns": null,
            "grid_template_rows": null,
            "height": null,
            "justify_content": null,
            "justify_items": null,
            "left": null,
            "margin": null,
            "max_height": null,
            "max_width": null,
            "min_height": null,
            "min_width": null,
            "object_fit": null,
            "object_position": null,
            "order": null,
            "overflow": null,
            "overflow_x": null,
            "overflow_y": null,
            "padding": null,
            "right": null,
            "top": null,
            "visibility": null,
            "width": null
          }
        },
        "8a3165dbe2d644269a1204b07e553483": {
          "model_module": "@jupyter-widgets/base",
          "model_module_version": "1.2.0",
          "model_name": "LayoutModel",
          "state": {
            "_model_module": "@jupyter-widgets/base",
            "_model_module_version": "1.2.0",
            "_model_name": "LayoutModel",
            "_view_count": null,
            "_view_module": "@jupyter-widgets/base",
            "_view_module_version": "1.2.0",
            "_view_name": "LayoutView",
            "align_content": null,
            "align_items": null,
            "align_self": null,
            "border": null,
            "bottom": null,
            "display": null,
            "flex": null,
            "flex_flow": null,
            "grid_area": null,
            "grid_auto_columns": null,
            "grid_auto_flow": null,
            "grid_auto_rows": null,
            "grid_column": null,
            "grid_gap": null,
            "grid_row": null,
            "grid_template_areas": null,
            "grid_template_columns": null,
            "grid_template_rows": null,
            "height": null,
            "justify_content": null,
            "justify_items": null,
            "left": null,
            "margin": null,
            "max_height": null,
            "max_width": null,
            "min_height": null,
            "min_width": null,
            "object_fit": null,
            "object_position": null,
            "order": null,
            "overflow": null,
            "overflow_x": null,
            "overflow_y": null,
            "padding": null,
            "right": null,
            "top": null,
            "visibility": null,
            "width": null
          }
        },
        "9131c5a0ab1a4e5e81795bf27aaab6c2": {
          "model_module": "@jupyter-widgets/base",
          "model_module_version": "1.2.0",
          "model_name": "LayoutModel",
          "state": {
            "_model_module": "@jupyter-widgets/base",
            "_model_module_version": "1.2.0",
            "_model_name": "LayoutModel",
            "_view_count": null,
            "_view_module": "@jupyter-widgets/base",
            "_view_module_version": "1.2.0",
            "_view_name": "LayoutView",
            "align_content": null,
            "align_items": null,
            "align_self": null,
            "border": null,
            "bottom": null,
            "display": null,
            "flex": null,
            "flex_flow": null,
            "grid_area": null,
            "grid_auto_columns": null,
            "grid_auto_flow": null,
            "grid_auto_rows": null,
            "grid_column": null,
            "grid_gap": null,
            "grid_row": null,
            "grid_template_areas": null,
            "grid_template_columns": null,
            "grid_template_rows": null,
            "height": null,
            "justify_content": null,
            "justify_items": null,
            "left": null,
            "margin": null,
            "max_height": null,
            "max_width": null,
            "min_height": null,
            "min_width": null,
            "object_fit": null,
            "object_position": null,
            "order": null,
            "overflow": null,
            "overflow_x": null,
            "overflow_y": null,
            "padding": null,
            "right": null,
            "top": null,
            "visibility": null,
            "width": null
          }
        },
        "932df4737503432c8d434d7c0aa715d3": {
          "model_module": "@jupyter-widgets/controls",
          "model_module_version": "1.5.0",
          "model_name": "HTMLModel",
          "state": {
            "_dom_classes": [],
            "_model_module": "@jupyter-widgets/controls",
            "_model_module_version": "1.5.0",
            "_model_name": "HTMLModel",
            "_view_count": null,
            "_view_module": "@jupyter-widgets/controls",
            "_view_module_version": "1.5.0",
            "_view_name": "HTMLView",
            "description": "",
            "description_tooltip": null,
            "layout": "IPY_MODEL_c5cb1e9006854225898e9e555fc9d963",
            "placeholder": "​",
            "style": "IPY_MODEL_0167bb3b5ded4d088e4d18f5c3a0817b",
            "value": " 28881/28881 [00:00&lt;00:00, 2129147.08it/s]"
          }
        },
        "9e9db350ca3c4e09a6525af4264f0f8c": {
          "model_module": "@jupyter-widgets/controls",
          "model_module_version": "1.5.0",
          "model_name": "FloatProgressModel",
          "state": {
            "_dom_classes": [],
            "_model_module": "@jupyter-widgets/controls",
            "_model_module_version": "1.5.0",
            "_model_name": "FloatProgressModel",
            "_view_count": null,
            "_view_module": "@jupyter-widgets/controls",
            "_view_module_version": "1.5.0",
            "_view_name": "ProgressView",
            "bar_style": "success",
            "description": "",
            "description_tooltip": null,
            "layout": "IPY_MODEL_d09c1f4956f1450da0c8cecedc477afc",
            "max": 1648877,
            "min": 0,
            "orientation": "horizontal",
            "style": "IPY_MODEL_7b210e47ba8d494abced03f6657f3364",
            "value": 1648877
          }
        },
        "a0fb500300ce43cebae7e9158e971d2e": {
          "model_module": "@jupyter-widgets/controls",
          "model_module_version": "1.5.0",
          "model_name": "ProgressStyleModel",
          "state": {
            "_model_module": "@jupyter-widgets/controls",
            "_model_module_version": "1.5.0",
            "_model_name": "ProgressStyleModel",
            "_view_count": null,
            "_view_module": "@jupyter-widgets/base",
            "_view_module_version": "1.2.0",
            "_view_name": "StyleView",
            "bar_color": null,
            "description_width": ""
          }
        },
        "a7fc04b43ce2468b9489a23617215938": {
          "model_module": "@jupyter-widgets/base",
          "model_module_version": "1.2.0",
          "model_name": "LayoutModel",
          "state": {
            "_model_module": "@jupyter-widgets/base",
            "_model_module_version": "1.2.0",
            "_model_name": "LayoutModel",
            "_view_count": null,
            "_view_module": "@jupyter-widgets/base",
            "_view_module_version": "1.2.0",
            "_view_name": "LayoutView",
            "align_content": null,
            "align_items": null,
            "align_self": null,
            "border": null,
            "bottom": null,
            "display": null,
            "flex": null,
            "flex_flow": null,
            "grid_area": null,
            "grid_auto_columns": null,
            "grid_auto_flow": null,
            "grid_auto_rows": null,
            "grid_column": null,
            "grid_gap": null,
            "grid_row": null,
            "grid_template_areas": null,
            "grid_template_columns": null,
            "grid_template_rows": null,
            "height": null,
            "justify_content": null,
            "justify_items": null,
            "left": null,
            "margin": null,
            "max_height": null,
            "max_width": null,
            "min_height": null,
            "min_width": null,
            "object_fit": null,
            "object_position": null,
            "order": null,
            "overflow": null,
            "overflow_x": null,
            "overflow_y": null,
            "padding": null,
            "right": null,
            "top": null,
            "visibility": null,
            "width": null
          }
        },
        "a81628cb28644f8baad3562399bae8e5": {
          "model_module": "@jupyter-widgets/controls",
          "model_module_version": "1.5.0",
          "model_name": "HTMLModel",
          "state": {
            "_dom_classes": [],
            "_model_module": "@jupyter-widgets/controls",
            "_model_module_version": "1.5.0",
            "_model_name": "HTMLModel",
            "_view_count": null,
            "_view_module": "@jupyter-widgets/controls",
            "_view_module_version": "1.5.0",
            "_view_name": "HTMLView",
            "description": "",
            "description_tooltip": null,
            "layout": "IPY_MODEL_88c9432631c14c6ab0e8d716c378a075",
            "placeholder": "​",
            "style": "IPY_MODEL_0a4b57f9b3664aa0a818ee36391c55ab",
            "value": " 1648877/1648877 [00:00&lt;00:00, 59337898.40it/s]"
          }
        },
        "b25c7b46e8b74143aec3e124195cbd87": {
          "model_module": "@jupyter-widgets/controls",
          "model_module_version": "1.5.0",
          "model_name": "HTMLModel",
          "state": {
            "_dom_classes": [],
            "_model_module": "@jupyter-widgets/controls",
            "_model_module_version": "1.5.0",
            "_model_name": "HTMLModel",
            "_view_count": null,
            "_view_module": "@jupyter-widgets/controls",
            "_view_module_version": "1.5.0",
            "_view_name": "HTMLView",
            "description": "",
            "description_tooltip": null,
            "layout": "IPY_MODEL_f01c57b86ae4403694dd8a660fc5585c",
            "placeholder": "​",
            "style": "IPY_MODEL_72c646f893df424e8fba6204e5d1f4ca",
            "value": " 9912422/9912422 [00:00&lt;00:00, 214444857.77it/s]"
          }
        },
        "be54595a505c4e8297f05be7ca03b826": {
          "model_module": "@jupyter-widgets/controls",
          "model_module_version": "1.5.0",
          "model_name": "FloatProgressModel",
          "state": {
            "_dom_classes": [],
            "_model_module": "@jupyter-widgets/controls",
            "_model_module_version": "1.5.0",
            "_model_name": "FloatProgressModel",
            "_view_count": null,
            "_view_module": "@jupyter-widgets/controls",
            "_view_module_version": "1.5.0",
            "_view_name": "ProgressView",
            "bar_style": "success",
            "description": "",
            "description_tooltip": null,
            "layout": "IPY_MODEL_9131c5a0ab1a4e5e81795bf27aaab6c2",
            "max": 28881,
            "min": 0,
            "orientation": "horizontal",
            "style": "IPY_MODEL_a0fb500300ce43cebae7e9158e971d2e",
            "value": 28881
          }
        },
        "c261a5200f3c484a9975847a28964151": {
          "model_module": "@jupyter-widgets/controls",
          "model_module_version": "1.5.0",
          "model_name": "HTMLModel",
          "state": {
            "_dom_classes": [],
            "_model_module": "@jupyter-widgets/controls",
            "_model_module_version": "1.5.0",
            "_model_name": "HTMLModel",
            "_view_count": null,
            "_view_module": "@jupyter-widgets/controls",
            "_view_module_version": "1.5.0",
            "_view_name": "HTMLView",
            "description": "",
            "description_tooltip": null,
            "layout": "IPY_MODEL_2716f826f1cb4678b28dfdb94fc97add",
            "placeholder": "​",
            "style": "IPY_MODEL_cda09cc3a366427493263f818267e542",
            "value": "100%"
          }
        },
        "c5cb1e9006854225898e9e555fc9d963": {
          "model_module": "@jupyter-widgets/base",
          "model_module_version": "1.2.0",
          "model_name": "LayoutModel",
          "state": {
            "_model_module": "@jupyter-widgets/base",
            "_model_module_version": "1.2.0",
            "_model_name": "LayoutModel",
            "_view_count": null,
            "_view_module": "@jupyter-widgets/base",
            "_view_module_version": "1.2.0",
            "_view_name": "LayoutView",
            "align_content": null,
            "align_items": null,
            "align_self": null,
            "border": null,
            "bottom": null,
            "display": null,
            "flex": null,
            "flex_flow": null,
            "grid_area": null,
            "grid_auto_columns": null,
            "grid_auto_flow": null,
            "grid_auto_rows": null,
            "grid_column": null,
            "grid_gap": null,
            "grid_row": null,
            "grid_template_areas": null,
            "grid_template_columns": null,
            "grid_template_rows": null,
            "height": null,
            "justify_content": null,
            "justify_items": null,
            "left": null,
            "margin": null,
            "max_height": null,
            "max_width": null,
            "min_height": null,
            "min_width": null,
            "object_fit": null,
            "object_position": null,
            "order": null,
            "overflow": null,
            "overflow_x": null,
            "overflow_y": null,
            "padding": null,
            "right": null,
            "top": null,
            "visibility": null,
            "width": null
          }
        },
        "c9a5c420bb19434c87e71e21023b8bc3": {
          "model_module": "@jupyter-widgets/base",
          "model_module_version": "1.2.0",
          "model_name": "LayoutModel",
          "state": {
            "_model_module": "@jupyter-widgets/base",
            "_model_module_version": "1.2.0",
            "_model_name": "LayoutModel",
            "_view_count": null,
            "_view_module": "@jupyter-widgets/base",
            "_view_module_version": "1.2.0",
            "_view_name": "LayoutView",
            "align_content": null,
            "align_items": null,
            "align_self": null,
            "border": null,
            "bottom": null,
            "display": null,
            "flex": null,
            "flex_flow": null,
            "grid_area": null,
            "grid_auto_columns": null,
            "grid_auto_flow": null,
            "grid_auto_rows": null,
            "grid_column": null,
            "grid_gap": null,
            "grid_row": null,
            "grid_template_areas": null,
            "grid_template_columns": null,
            "grid_template_rows": null,
            "height": null,
            "justify_content": null,
            "justify_items": null,
            "left": null,
            "margin": null,
            "max_height": null,
            "max_width": null,
            "min_height": null,
            "min_width": null,
            "object_fit": null,
            "object_position": null,
            "order": null,
            "overflow": null,
            "overflow_x": null,
            "overflow_y": null,
            "padding": null,
            "right": null,
            "top": null,
            "visibility": null,
            "width": null
          }
        },
        "cda09cc3a366427493263f818267e542": {
          "model_module": "@jupyter-widgets/controls",
          "model_module_version": "1.5.0",
          "model_name": "DescriptionStyleModel",
          "state": {
            "_model_module": "@jupyter-widgets/controls",
            "_model_module_version": "1.5.0",
            "_model_name": "DescriptionStyleModel",
            "_view_count": null,
            "_view_module": "@jupyter-widgets/base",
            "_view_module_version": "1.2.0",
            "_view_name": "StyleView",
            "description_width": ""
          }
        },
        "cdb05c704e7c4da4805fa5f8970b972e": {
          "model_module": "@jupyter-widgets/controls",
          "model_module_version": "1.5.0",
          "model_name": "FloatProgressModel",
          "state": {
            "_dom_classes": [],
            "_model_module": "@jupyter-widgets/controls",
            "_model_module_version": "1.5.0",
            "_model_name": "FloatProgressModel",
            "_view_count": null,
            "_view_module": "@jupyter-widgets/controls",
            "_view_module_version": "1.5.0",
            "_view_name": "ProgressView",
            "bar_style": "success",
            "description": "",
            "description_tooltip": null,
            "layout": "IPY_MODEL_61198af28e3a4954bd9a2c33d731184c",
            "max": 9912422,
            "min": 0,
            "orientation": "horizontal",
            "style": "IPY_MODEL_d6e7d318a13342d69ae2ff296fa34783",
            "value": 9912422
          }
        },
        "d09c1f4956f1450da0c8cecedc477afc": {
          "model_module": "@jupyter-widgets/base",
          "model_module_version": "1.2.0",
          "model_name": "LayoutModel",
          "state": {
            "_model_module": "@jupyter-widgets/base",
            "_model_module_version": "1.2.0",
            "_model_name": "LayoutModel",
            "_view_count": null,
            "_view_module": "@jupyter-widgets/base",
            "_view_module_version": "1.2.0",
            "_view_name": "LayoutView",
            "align_content": null,
            "align_items": null,
            "align_self": null,
            "border": null,
            "bottom": null,
            "display": null,
            "flex": null,
            "flex_flow": null,
            "grid_area": null,
            "grid_auto_columns": null,
            "grid_auto_flow": null,
            "grid_auto_rows": null,
            "grid_column": null,
            "grid_gap": null,
            "grid_row": null,
            "grid_template_areas": null,
            "grid_template_columns": null,
            "grid_template_rows": null,
            "height": null,
            "justify_content": null,
            "justify_items": null,
            "left": null,
            "margin": null,
            "max_height": null,
            "max_width": null,
            "min_height": null,
            "min_width": null,
            "object_fit": null,
            "object_position": null,
            "order": null,
            "overflow": null,
            "overflow_x": null,
            "overflow_y": null,
            "padding": null,
            "right": null,
            "top": null,
            "visibility": null,
            "width": null
          }
        },
        "d6e7d318a13342d69ae2ff296fa34783": {
          "model_module": "@jupyter-widgets/controls",
          "model_module_version": "1.5.0",
          "model_name": "ProgressStyleModel",
          "state": {
            "_model_module": "@jupyter-widgets/controls",
            "_model_module_version": "1.5.0",
            "_model_name": "ProgressStyleModel",
            "_view_count": null,
            "_view_module": "@jupyter-widgets/base",
            "_view_module_version": "1.2.0",
            "_view_name": "StyleView",
            "bar_color": null,
            "description_width": ""
          }
        },
        "f01c57b86ae4403694dd8a660fc5585c": {
          "model_module": "@jupyter-widgets/base",
          "model_module_version": "1.2.0",
          "model_name": "LayoutModel",
          "state": {
            "_model_module": "@jupyter-widgets/base",
            "_model_module_version": "1.2.0",
            "_model_name": "LayoutModel",
            "_view_count": null,
            "_view_module": "@jupyter-widgets/base",
            "_view_module_version": "1.2.0",
            "_view_name": "LayoutView",
            "align_content": null,
            "align_items": null,
            "align_self": null,
            "border": null,
            "bottom": null,
            "display": null,
            "flex": null,
            "flex_flow": null,
            "grid_area": null,
            "grid_auto_columns": null,
            "grid_auto_flow": null,
            "grid_auto_rows": null,
            "grid_column": null,
            "grid_gap": null,
            "grid_row": null,
            "grid_template_areas": null,
            "grid_template_columns": null,
            "grid_template_rows": null,
            "height": null,
            "justify_content": null,
            "justify_items": null,
            "left": null,
            "margin": null,
            "max_height": null,
            "max_width": null,
            "min_height": null,
            "min_width": null,
            "object_fit": null,
            "object_position": null,
            "order": null,
            "overflow": null,
            "overflow_x": null,
            "overflow_y": null,
            "padding": null,
            "right": null,
            "top": null,
            "visibility": null,
            "width": null
          }
        },
        "f2083da4ab864d6d9b89823878ff0edd": {
          "model_module": "@jupyter-widgets/base",
          "model_module_version": "1.2.0",
          "model_name": "LayoutModel",
          "state": {
            "_model_module": "@jupyter-widgets/base",
            "_model_module_version": "1.2.0",
            "_model_name": "LayoutModel",
            "_view_count": null,
            "_view_module": "@jupyter-widgets/base",
            "_view_module_version": "1.2.0",
            "_view_name": "LayoutView",
            "align_content": null,
            "align_items": null,
            "align_self": null,
            "border": null,
            "bottom": null,
            "display": null,
            "flex": null,
            "flex_flow": null,
            "grid_area": null,
            "grid_auto_columns": null,
            "grid_auto_flow": null,
            "grid_auto_rows": null,
            "grid_column": null,
            "grid_gap": null,
            "grid_row": null,
            "grid_template_areas": null,
            "grid_template_columns": null,
            "grid_template_rows": null,
            "height": null,
            "justify_content": null,
            "justify_items": null,
            "left": null,
            "margin": null,
            "max_height": null,
            "max_width": null,
            "min_height": null,
            "min_width": null,
            "object_fit": null,
            "object_position": null,
            "order": null,
            "overflow": null,
            "overflow_x": null,
            "overflow_y": null,
            "padding": null,
            "right": null,
            "top": null,
            "visibility": null,
            "width": null
          }
        },
        "ff1bfb31148f4103ac483fdcb927c26e": {
          "model_module": "@jupyter-widgets/base",
          "model_module_version": "1.2.0",
          "model_name": "LayoutModel",
          "state": {
            "_model_module": "@jupyter-widgets/base",
            "_model_module_version": "1.2.0",
            "_model_name": "LayoutModel",
            "_view_count": null,
            "_view_module": "@jupyter-widgets/base",
            "_view_module_version": "1.2.0",
            "_view_name": "LayoutView",
            "align_content": null,
            "align_items": null,
            "align_self": null,
            "border": null,
            "bottom": null,
            "display": null,
            "flex": null,
            "flex_flow": null,
            "grid_area": null,
            "grid_auto_columns": null,
            "grid_auto_flow": null,
            "grid_auto_rows": null,
            "grid_column": null,
            "grid_gap": null,
            "grid_row": null,
            "grid_template_areas": null,
            "grid_template_columns": null,
            "grid_template_rows": null,
            "height": null,
            "justify_content": null,
            "justify_items": null,
            "left": null,
            "margin": null,
            "max_height": null,
            "max_width": null,
            "min_height": null,
            "min_width": null,
            "object_fit": null,
            "object_position": null,
            "order": null,
            "overflow": null,
            "overflow_x": null,
            "overflow_y": null,
            "padding": null,
            "right": null,
            "top": null,
            "visibility": null,
            "width": null
          }
        }
      }
    }
  },
  "nbformat": 4,
  "nbformat_minor": 0
}
