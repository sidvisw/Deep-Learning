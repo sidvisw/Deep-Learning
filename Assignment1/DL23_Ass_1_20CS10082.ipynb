{
  "cells": [
    {
      "cell_type": "markdown",
      "metadata": {
        "id": "FBKdMbwfvq-W"
      },
      "source": [
        "# About: Deep Learning '23 Assignment 1\n",
        "\n",
        "\n",
        "We will perform Image Classification task on the MNIST dataset which has 70,000 28*28 images labelled into 10 classes. \n",
        "\n",
        "**Total Marks: 60**\n",
        "\n",
        "\n",
        "**Fill these**\n",
        "\n",
        "Name: `Sidharth Vishwakarma`\n",
        "\n",
        "Roll Number: `20CS10082`\n",
        "\n",
        "**Instructions:**\n",
        "\n",
        "1. We have left code cells blank for you to fill up with appropriate code. Do not add any extra code cells. Strictly follow the format and fill up the cells with the correct code. Refer to cell comments for what to fill in that cell.\n",
        "\n",
        "2. *Do not* use any training frameworks like PyTorch Lightning. This assignment will test your ability to write custom training loops.\n",
        "\n",
        "3. Save the notebook with cell outputs of all cells. The cell outputs  will be used for evaluating your submission.\n",
        "\n",
        "\n"
      ]
    },
    {
      "cell_type": "code",
      "execution_count": 1,
      "metadata": {
        "id": "b7yol97nxLq3"
      },
      "outputs": [],
      "source": [
        "import torch\n",
        "import torch.nn\n",
        "import random\n",
        "import numpy as np\n",
        "\n",
        "from torchvision import datasets, transforms\n",
        "from torch.utils.data import random_split, DataLoader\n",
        "\n",
        "\n",
        "## Add any other imports here\n",
        "import matplotlib.pyplot as plt"
      ]
    },
    {
      "cell_type": "code",
      "execution_count": 2,
      "metadata": {
        "id": "Lv07aCHK0IhG"
      },
      "outputs": [],
      "source": [
        "SEED=42\n",
        "torch.manual_seed(SEED)\n",
        "random.seed(SEED)\n",
        "np.random.seed(SEED)"
      ]
    },
    {
      "cell_type": "markdown",
      "metadata": {
        "id": "HU_56fBhx2H4"
      },
      "source": [
        "## Getting the data"
      ]
    },
    {
      "cell_type": "code",
      "execution_count": 3,
      "metadata": {
        "colab": {
          "base_uri": "https://localhost:8080/",
          "height": 440,
          "referenced_widgets": [
            "28790a7df50b41a1bc1bd7824a2bb2ae",
            "b24945571ac043d0b09393b7f0096bcf",
            "c45fdcb30874449d8085f517bbd6c537",
            "00d467db72ed41d882731aeb3665c829",
            "c86817d3c8024ae2954e6f61df65f119",
            "30b911bb370b44b8a7817745fc19cb55",
            "027ff38249c340a78297739556a936b4",
            "2de957f1c7ec4649a4fa913c5d54cc7f",
            "41892bac0c2442ffbc3f97b0554f2edb",
            "399a5f483d7f4d43b4eea4ee60a6b610",
            "0377a2218e7a427bbb6a602152b55651",
            "9edcef85037b4cecac3454160c3a0eb5",
            "9e994ca649b34303b0cfa896c1eb1ef9",
            "bb88d9d6aa2e45a09d77baa46e714711",
            "9ab27e45a1a543d2ba93077ed44ec8c5",
            "2509a935f2784065a9129e6778838e09",
            "92b253d8b6b4493cb5bb772820d5a579",
            "fe94e1c35ac54ca3bb06b35b19c16246",
            "4ac3c83373774a9fb25bed315e0ba168",
            "18ec435ca5284edf8fca445460f9589a",
            "411138aec2fe4d8193586ffaf77e9d81",
            "16ed6ca35ff546bfbe1a1114bd0cbf64",
            "2df79ff45c9245928ba5051d400e5484",
            "46724f914dfa4f4b931b5f8c13ef03e3",
            "6ce0908acf3a4cfb9dc28b13701af7de",
            "d326c36f8065458dab4b03d88e58d6ba",
            "5fe4bfc435d24846a0e0e31ef22cc0dc",
            "1cf4d6a02bbd419d8d2d72f49119becd",
            "bad48c4c213b47358bfb7d4f79d34acf",
            "b8cd97cd94324f28b273c1af25e328f8",
            "681ffa5a8b534acabcf5a2e5209ec2cc",
            "e556de6c369041ca94cf4c42797a340c",
            "53b47a758a694cb089f2f1a36dafab23",
            "eb031aa528e74665a7c9076bb314c303",
            "001aaac127e4462bad90049023489444",
            "fd8efa3254e04369a2e8e23317a6d7cf",
            "e913b5bdc8574859a6490eed3e9b7419",
            "be6e3e80d1bc4e2ca072ca01858daf8d",
            "77064e5ff7164ee0b10a2bb8da4eaf2a",
            "e8520659ef974d9f838ea7672453ae1b",
            "59d321714ebc43448ed3bdfcf1218aff",
            "5746fd59c6e1417192d4a21605f429ea",
            "105812d880ad4192ba8aec2191d1a682",
            "a25dea33401445d0935630a3ef35adb6"
          ]
        },
        "id": "CfV1pXYtyAfW",
        "outputId": "fbe0a054-7015-4c81-a765-3b36720b9e70"
      },
      "outputs": [
        {
          "output_type": "stream",
          "name": "stdout",
          "text": [
            "Downloading http://yann.lecun.com/exdb/mnist/train-images-idx3-ubyte.gz\n",
            "Downloading http://yann.lecun.com/exdb/mnist/train-images-idx3-ubyte.gz to data/MNIST/raw/train-images-idx3-ubyte.gz\n"
          ]
        },
        {
          "output_type": "display_data",
          "data": {
            "text/plain": [
              "  0%|          | 0/9912422 [00:00<?, ?it/s]"
            ],
            "application/vnd.jupyter.widget-view+json": {
              "version_major": 2,
              "version_minor": 0,
              "model_id": "28790a7df50b41a1bc1bd7824a2bb2ae"
            }
          },
          "metadata": {}
        },
        {
          "output_type": "stream",
          "name": "stdout",
          "text": [
            "Extracting data/MNIST/raw/train-images-idx3-ubyte.gz to data/MNIST/raw\n",
            "\n",
            "Downloading http://yann.lecun.com/exdb/mnist/train-labels-idx1-ubyte.gz\n",
            "Downloading http://yann.lecun.com/exdb/mnist/train-labels-idx1-ubyte.gz to data/MNIST/raw/train-labels-idx1-ubyte.gz\n"
          ]
        },
        {
          "output_type": "display_data",
          "data": {
            "text/plain": [
              "  0%|          | 0/28881 [00:00<?, ?it/s]"
            ],
            "application/vnd.jupyter.widget-view+json": {
              "version_major": 2,
              "version_minor": 0,
              "model_id": "9edcef85037b4cecac3454160c3a0eb5"
            }
          },
          "metadata": {}
        },
        {
          "output_type": "stream",
          "name": "stdout",
          "text": [
            "Extracting data/MNIST/raw/train-labels-idx1-ubyte.gz to data/MNIST/raw\n",
            "\n",
            "Downloading http://yann.lecun.com/exdb/mnist/t10k-images-idx3-ubyte.gz\n",
            "Downloading http://yann.lecun.com/exdb/mnist/t10k-images-idx3-ubyte.gz to data/MNIST/raw/t10k-images-idx3-ubyte.gz\n"
          ]
        },
        {
          "output_type": "display_data",
          "data": {
            "text/plain": [
              "  0%|          | 0/1648877 [00:00<?, ?it/s]"
            ],
            "application/vnd.jupyter.widget-view+json": {
              "version_major": 2,
              "version_minor": 0,
              "model_id": "2df79ff45c9245928ba5051d400e5484"
            }
          },
          "metadata": {}
        },
        {
          "output_type": "stream",
          "name": "stdout",
          "text": [
            "Extracting data/MNIST/raw/t10k-images-idx3-ubyte.gz to data/MNIST/raw\n",
            "\n",
            "Downloading http://yann.lecun.com/exdb/mnist/t10k-labels-idx1-ubyte.gz\n",
            "Downloading http://yann.lecun.com/exdb/mnist/t10k-labels-idx1-ubyte.gz to data/MNIST/raw/t10k-labels-idx1-ubyte.gz\n"
          ]
        },
        {
          "output_type": "display_data",
          "data": {
            "text/plain": [
              "  0%|          | 0/4542 [00:00<?, ?it/s]"
            ],
            "application/vnd.jupyter.widget-view+json": {
              "version_major": 2,
              "version_minor": 0,
              "model_id": "eb031aa528e74665a7c9076bb314c303"
            }
          },
          "metadata": {}
        },
        {
          "output_type": "stream",
          "name": "stdout",
          "text": [
            "Extracting data/MNIST/raw/t10k-labels-idx1-ubyte.gz to data/MNIST/raw\n",
            "\n",
            "50000 10000 10000\n"
          ]
        }
      ],
      "source": [
        "train_data = datasets.MNIST('data', train=True, download=True, transform=transforms.ToTensor())\n",
        "test_data = datasets.MNIST('data', train=False, download=True, transform=transforms.ToTensor())\n",
        "train, val = random_split(train_data, [50000, 10000], generator=torch.Generator().manual_seed(SEED))\n",
        "\n",
        "train_loader = DataLoader(train, batch_size=64, shuffle=True)\n",
        "val_loader = DataLoader(val, batch_size=64, shuffle=False)\n",
        "test_loader = DataLoader(test_data, batch_size=64, shuffle=False)\n",
        "\n",
        "print(len(train), len(val), len(test_data))"
      ]
    },
    {
      "cell_type": "markdown",
      "metadata": {
        "id": "4xqWpnwu0mzj"
      },
      "source": [
        "## Defining the Model [18 marks]\n",
        "\n",
        "You will define 3 models, with 2, 3, 4 hidden layers respectively. Lets call these models A, B, C. We will be studying the comparitive performance of these 3 models on this task.\n",
        "\n",
        "Use ReLU as the activation function for all three models. Later we will experiment with other activation functions as well."
      ]
    },
    {
      "cell_type": "markdown",
      "metadata": {
        "id": "30J_OmCoMm4S"
      },
      "source": [
        "### Model A\n",
        "\n",
        "Architecture:\n",
        "\n",
        "1. Input Layer \n",
        "2. Hidden Layer (Dimension Size - 64)\n",
        "3. Activation Function\n",
        "4. Hidden Layer (Dimension Size - 128)\n",
        "5. Activation Function\n",
        "6. Output Layer (Dimension Size = Number of Classes = 10)"
      ]
    },
    {
      "cell_type": "code",
      "execution_count": 4,
      "metadata": {
        "id": "WPGlwx0502pe"
      },
      "outputs": [],
      "source": [
        "# Model A Definition \n",
        "input_size = 28 * 28\n",
        "num_classes = 10\n",
        "\n",
        "class ModelA(torch.nn.Module):\n",
        "    def __init__(self, input_size, num_classes):\n",
        "        super(ModelA, self).__init__()\n",
        "        self.fc1 = torch.nn.Linear(input_size, 64)\n",
        "        self.fc2 = torch.nn.Linear(64, 128)\n",
        "        self.fc3 = torch.nn.Linear(128, num_classes)\n",
        "        self.relu = torch.nn.ReLU()\n",
        "    \n",
        "    def forward(self, x):\n",
        "        x = self.fc1(x)\n",
        "        x = self.relu(x)\n",
        "        x = self.fc2(x)\n",
        "        x = self.relu(x)\n",
        "        x = self.fc3(x)\n",
        "        return x\n",
        "\n",
        "\n",
        "# Fill in appropriately while maintaining the name of the variable\n",
        "modelA = ModelA(input_size,num_classes)"
      ]
    },
    {
      "cell_type": "markdown",
      "metadata": {
        "id": "0K0nfqCvMqA9"
      },
      "source": [
        "### Model B\n",
        "\n",
        "\n",
        "Architecture:\n",
        "\n",
        "1. Input Layer \n",
        "2. Hidden Layer (Dimension Size - 64)\n",
        "3. Activation Function\n",
        "4. Hidden Layer (Dimension Size - 128)\n",
        "5. Activation Function\n",
        "6. Hidden Layer (Dimension Size - 256)\n",
        "7. Activation Function\n",
        "8. Output Layer (Dimension Size = Number of Classes = 10)"
      ]
    },
    {
      "cell_type": "code",
      "execution_count": 5,
      "metadata": {
        "id": "AD5W0AJ908tI"
      },
      "outputs": [],
      "source": [
        "# Model B Definiton\n",
        "input_size = 28 * 28\n",
        "num_classes = 10\n",
        "\n",
        "class ModelB(torch.nn.Module):\n",
        "    def __init__(self, input_size, num_classes):\n",
        "        super(ModelB, self).__init__()\n",
        "        self.fc1 = torch.nn.Linear(input_size, 64)\n",
        "        self.fc2 = torch.nn.Linear(64, 128)\n",
        "        self.fc3 = torch.nn.Linear(128, 256)\n",
        "        self.fc4 = torch.nn.Linear(256, num_classes)\n",
        "        self.relu = torch.nn.ReLU()\n",
        "    \n",
        "    def forward(self, x):\n",
        "        x = self.fc1(x)\n",
        "        x = self.relu(x)\n",
        "        x = self.fc2(x)\n",
        "        x = self.relu(x)\n",
        "        x = self.fc3(x)\n",
        "        x = self.relu(x)\n",
        "        x = self.fc4(x)\n",
        "        return x\n",
        "\n",
        "# Use the same variable name\n",
        "modelB = ModelB(input_size, num_classes)"
      ]
    },
    {
      "cell_type": "markdown",
      "metadata": {
        "id": "TPDoGu9mMr_x"
      },
      "source": [
        "### Model C\n",
        "\n",
        "\n",
        "Architecture\n",
        "\n",
        "1. Input Layer \n",
        "2. Hidden Layer (Dimension Size - 64)\n",
        "3. Activation Function\n",
        "4. Hidden Layer (Dimension Size - 128)\n",
        "5. Activation Function\n",
        "6. Hidden Layer (Dimension Size - 256)\n",
        "7. Activation Function\n",
        "8. Hidden Layer (Dimension Size - 512)\n",
        "9. Activation Function\n",
        "10. Output Layer (Dimension Size = Number of Classes = 10)"
      ]
    },
    {
      "cell_type": "code",
      "execution_count": 6,
      "metadata": {
        "id": "FAaOMMjY1Jna"
      },
      "outputs": [],
      "source": [
        "# Model C Definition\n",
        "input_size = 28 * 28\n",
        "num_classes = 10\n",
        "\n",
        "class ModelC(torch.nn.Module):\n",
        "    def __init__(self, input_size, num_classes):\n",
        "        super(ModelC, self).__init__()\n",
        "        self.fc1 = torch.nn.Linear(input_size, 64)\n",
        "        self.fc2 = torch.nn.Linear(64, 128)\n",
        "        self.fc3 = torch.nn.Linear(128, 256)\n",
        "        self.fc4 = torch.nn.Linear(256, 512)\n",
        "        self.fc5 = torch.nn.Linear(512, num_classes)\n",
        "        self.relu = torch.nn.ReLU()\n",
        "    \n",
        "    def forward(self, x):\n",
        "        x = self.fc1(x)\n",
        "        x = self.relu(x)\n",
        "        x = self.fc2(x)\n",
        "        x = self.relu(x)\n",
        "        x = self.fc3(x)\n",
        "        x = self.relu(x)\n",
        "        x = self.fc4(x)\n",
        "        x = self.relu(x)\n",
        "        x = self.fc5(x)\n",
        "        return x\n",
        "\n",
        "# Use the same variable name\n",
        "modelC = ModelC(input_size, num_classes)"
      ]
    },
    {
      "cell_type": "markdown",
      "metadata": {
        "id": "EFfgQVEz1Oqx"
      },
      "source": [
        "## Loss Function & Optimizer [2 marks]\n",
        "\n",
        "* Loss Function: Cross Entropy Loss\n",
        "* Optimizer : Adam\n",
        "\n",
        "Use PyTorch Library versions for these two."
      ]
    },
    {
      "cell_type": "code",
      "execution_count": 8,
      "metadata": {
        "id": "-z7ogUqL1WMV"
      },
      "outputs": [],
      "source": [
        "# Use the same variable names\n",
        "criterion = torch.nn.CrossEntropyLoss()\n",
        "optimizer = torch.optim.Adam"
      ]
    },
    {
      "cell_type": "markdown",
      "metadata": {
        "id": "OLnwW-h31oJa"
      },
      "source": [
        "## Training Loop [30 marks]\n",
        "\n",
        "We give you the freedom to choose Hyperparameters like learing rate, number of epochs etc, but take care to use the **same** hyperparameters for all the 3 models. Also clearly state the hyperparameters you have chosen\n",
        "\n",
        "For each model, You need to report these metrics: Train Loss, Val Loss, Train Accuracy, Val Accuracy at the end of each epoch.\n",
        "\n",
        "Also plot the graphs of the following (in separate cells)\n",
        "1. Train Loss & Val Loss V/s Epoch\n",
        "2. Train Accuracy & Val Accuracy V/s Epoch"
      ]
    },
    {
      "cell_type": "code",
      "execution_count": 9,
      "metadata": {
        "id": "3ZVpEI-N8L5X"
      },
      "outputs": [],
      "source": [
        "# Define the hyperparameters (same for all 3 models) here\n",
        "EPOCHS = 10\n",
        "LEARNING_RATE = 0.001\n",
        "\n",
        "optimizerA = optimizer(modelA.parameters(), lr=LEARNING_RATE)\n",
        "optimizerB = optimizer(modelB.parameters(), lr=LEARNING_RATE)\n",
        "optimizerC = optimizer(modelC.parameters(), lr=LEARNING_RATE)"
      ]
    },
    {
      "cell_type": "markdown",
      "metadata": {
        "id": "UMdreKgU24od"
      },
      "source": [
        "### Model A \n",
        "\n"
      ]
    },
    {
      "cell_type": "code",
      "execution_count": 10,
      "metadata": {
        "id": "iyJ75sLw2Z5n",
        "colab": {
          "base_uri": "https://localhost:8080/"
        },
        "outputId": "66454725-57d7-4e52-8fb5-593d8db9df5f"
      },
      "outputs": [
        {
          "output_type": "stream",
          "name": "stdout",
          "text": [
            "Epoch: 0 \tTraining Loss: 0.006166 \tValidation Loss: 0.003763 \tTraining Accuracy: 88.92% \tValidation Accuracy: 93.06%\n",
            "Epoch: 1 \tTraining Loss: 0.002850 \tValidation Loss: 0.002664 \tTraining Accuracy: 94.68% \tValidation Accuracy: 94.99%\n",
            "Epoch: 2 \tTraining Loss: 0.002019 \tValidation Loss: 0.002283 \tTraining Accuracy: 96.06% \tValidation Accuracy: 95.88%\n",
            "Epoch: 3 \tTraining Loss: 0.001560 \tValidation Loss: 0.002069 \tTraining Accuracy: 96.95% \tValidation Accuracy: 95.90%\n",
            "Epoch: 4 \tTraining Loss: 0.001250 \tValidation Loss: 0.001896 \tTraining Accuracy: 97.52% \tValidation Accuracy: 96.45%\n",
            "Epoch: 5 \tTraining Loss: 0.001003 \tValidation Loss: 0.001785 \tTraining Accuracy: 97.97% \tValidation Accuracy: 96.66%\n",
            "Epoch: 6 \tTraining Loss: 0.000870 \tValidation Loss: 0.001768 \tTraining Accuracy: 98.22% \tValidation Accuracy: 96.69%\n",
            "Epoch: 7 \tTraining Loss: 0.000698 \tValidation Loss: 0.001976 \tTraining Accuracy: 98.61% \tValidation Accuracy: 96.73%\n",
            "Epoch: 8 \tTraining Loss: 0.000610 \tValidation Loss: 0.001870 \tTraining Accuracy: 98.75% \tValidation Accuracy: 96.98%\n",
            "Epoch: 9 \tTraining Loss: 0.000554 \tValidation Loss: 0.001795 \tTraining Accuracy: 98.85% \tValidation Accuracy: 97.07%\n"
          ]
        }
      ],
      "source": [
        "# Training Loop for model A\n",
        "train_lossesA = []\n",
        "val_lossesA = []\n",
        "train_accA = []\n",
        "val_accA = []\n",
        "\n",
        "for epoch in range(EPOCHS):\n",
        "    train_loss = 0.0\n",
        "    val_loss = 0.0\n",
        "    train_correct = 0\n",
        "    val_correct = 0\n",
        "    \n",
        "    modelA.train()\n",
        "    for data, target in train_loader:\n",
        "        data = data.view(-1, 28*28)\n",
        "        optimizerA.zero_grad()\n",
        "        output = modelA(data)\n",
        "        loss = criterion(output, target)\n",
        "        loss.backward()\n",
        "        optimizerA.step()\n",
        "        train_loss += loss.item()\n",
        "        pred = output.data.max(1, keepdim=True)[1]\n",
        "        train_correct += pred.eq(target.data.view_as(pred)).sum()\n",
        "    \n",
        "    modelA.eval()\n",
        "    for data, target in val_loader:\n",
        "        data = data.view(-1, 28*28)\n",
        "        output = modelA(data)\n",
        "        loss = criterion(output, target)\n",
        "        val_loss += loss.item()\n",
        "        pred = output.data.max(1, keepdim=True)[1]\n",
        "        val_correct += pred.eq(target.data.view_as(pred)).sum()\n",
        "    \n",
        "    train_loss /= len(train_loader.dataset)\n",
        "    val_loss /= len(val_loader.dataset)\n",
        "    train_lossesA.append(train_loss)\n",
        "    val_lossesA.append(val_loss)\n",
        "    train_accA.append(100. * train_correct / len(train_loader.dataset))\n",
        "    val_accA.append(100. * val_correct / len(val_loader.dataset))\n",
        "    print('Epoch: {} \\tTraining Loss: {:.6f} \\tValidation Loss: {:.6f} \\tTraining Accuracy: {:.2f}% \\tValidation Accuracy: {:.2f}%'.format(\n",
        "        epoch, train_loss, val_loss, 100. * train_correct / len(train_loader.dataset), 100. * val_correct / len(val_loader.dataset)))"
      ]
    },
    {
      "cell_type": "code",
      "execution_count": 11,
      "metadata": {
        "id": "Gk8Atveg2nPj",
        "colab": {
          "base_uri": "https://localhost:8080/",
          "height": 265
        },
        "outputId": "11917388-0b7f-4333-fbe3-ec0e9d5ba1e7"
      },
      "outputs": [
        {
          "output_type": "display_data",
          "data": {
            "text/plain": [
              "<Figure size 432x288 with 1 Axes>"
            ],
            "image/png": "[encoded data removed]"
          },
          "metadata": {
            "needs_background": "light"
          }
        }
      ],
      "source": [
        "# Plot Graph of Train & Val Loss vs Epoch (together in same plot) for model A\n",
        "plt.plot(train_lossesA, label='Training Loss')\n",
        "plt.plot(val_lossesA, label='Validation Loss' )\n",
        "plt.legend()\n",
        "plt.show()"
      ]
    },
    {
      "cell_type": "code",
      "execution_count": 12,
      "metadata": {
        "id": "VGTWAn_22n0m",
        "colab": {
          "base_uri": "https://localhost:8080/",
          "height": 265
        },
        "outputId": "1040c7da-41bc-4a76-9de1-a394c654d275"
      },
      "outputs": [
        {
          "output_type": "display_data",
          "data": {
            "text/plain": [
              "<Figure size 432x288 with 1 Axes>"
            ],
            "image/png": "[encoded data removed]"
          },
          "metadata": {
            "needs_background": "light"
          }
        }
      ],
      "source": [
        "# Plot Graph of Train & Val Accuracy vs Epoch (together in same plot) for model A\n",
        "plt.plot(train_accA, label='Training Accuracy')\n",
        "plt.plot(val_accA, label='Validation Accuracy')\n",
        "plt.legend()\n",
        "plt.show()"
      ]
    },
    {
      "cell_type": "markdown",
      "metadata": {
        "id": "X-kUp7pk28n-"
      },
      "source": [
        "### Model B\n"
      ]
    },
    {
      "cell_type": "code",
      "execution_count": 13,
      "metadata": {
        "id": "jCmX8PqE22XP",
        "colab": {
          "base_uri": "https://localhost:8080/"
        },
        "outputId": "bf76faa2-9fda-43c5-e029-4372eac96915"
      },
      "outputs": [
        {
          "output_type": "stream",
          "name": "stdout",
          "text": [
            "Epoch: 0 \tTraining Loss: 0.005617 \tValidation Loss: 0.003109 \tTraining Accuracy: 89.06% \tValidation Accuracy: 94.03%\n",
            "Epoch: 1 \tTraining Loss: 0.002359 \tValidation Loss: 0.002172 \tTraining Accuracy: 95.43% \tValidation Accuracy: 95.88%\n",
            "Epoch: 2 \tTraining Loss: 0.001722 \tValidation Loss: 0.001967 \tTraining Accuracy: 96.63% \tValidation Accuracy: 96.34%\n",
            "Epoch: 3 \tTraining Loss: 0.001356 \tValidation Loss: 0.001889 \tTraining Accuracy: 97.26% \tValidation Accuracy: 96.56%\n",
            "Epoch: 4 \tTraining Loss: 0.001092 \tValidation Loss: 0.001817 \tTraining Accuracy: 97.78% \tValidation Accuracy: 96.58%\n",
            "Epoch: 5 \tTraining Loss: 0.000890 \tValidation Loss: 0.001817 \tTraining Accuracy: 98.14% \tValidation Accuracy: 96.87%\n",
            "Epoch: 6 \tTraining Loss: 0.000767 \tValidation Loss: 0.001658 \tTraining Accuracy: 98.39% \tValidation Accuracy: 96.79%\n",
            "Epoch: 7 \tTraining Loss: 0.000673 \tValidation Loss: 0.001620 \tTraining Accuracy: 98.59% \tValidation Accuracy: 97.07%\n",
            "Epoch: 8 \tTraining Loss: 0.000545 \tValidation Loss: 0.001948 \tTraining Accuracy: 98.87% \tValidation Accuracy: 96.86%\n",
            "Epoch: 9 \tTraining Loss: 0.000504 \tValidation Loss: 0.001713 \tTraining Accuracy: 98.94% \tValidation Accuracy: 97.27%\n"
          ]
        }
      ],
      "source": [
        "# Training Loop for model B\n",
        "train_lossesB = []\n",
        "val_lossesB = []\n",
        "train_accB = []\n",
        "val_accB = []\n",
        "\n",
        "for epoch in range(EPOCHS):\n",
        "    train_loss = 0.0\n",
        "    val_loss = 0.0\n",
        "    train_correct = 0\n",
        "    val_correct = 0\n",
        "    \n",
        "    modelB.train()\n",
        "    for data, target in train_loader:\n",
        "        data = data.view(-1, 28*28)\n",
        "        optimizerB.zero_grad()\n",
        "        output = modelB(data)\n",
        "        loss = criterion(output, target)\n",
        "        loss.backward()\n",
        "        optimizerB.step()\n",
        "        train_loss += loss.item()\n",
        "        pred = output.data.max(1, keepdim=True)[1]\n",
        "        train_correct += pred.eq(target.data.view_as(pred)).sum()\n",
        "    \n",
        "    modelB.eval()\n",
        "    for data, target in val_loader:\n",
        "        data = data.view(-1, 28*28)\n",
        "        output = modelB(data)\n",
        "        loss = criterion(output, target)\n",
        "        val_loss += loss.item()\n",
        "        pred = output.data.max(1, keepdim=True)[1]\n",
        "        val_correct += pred.eq(target.data.view_as(pred)).sum()\n",
        "    \n",
        "    train_loss /= len(train_loader.dataset)\n",
        "    val_loss /= len(val_loader.dataset)\n",
        "    train_lossesB.append(train_loss)\n",
        "    val_lossesB.append(val_loss)\n",
        "    train_accB.append(100. * train_correct / len(train_loader.dataset))\n",
        "    val_accB.append(100. * val_correct / len(val_loader.dataset))\n",
        "    print('Epoch: {} \\tTraining Loss: {:.6f} \\tValidation Loss: {:.6f} \\tTraining Accuracy: {:.2f}% \\tValidation Accuracy: {:.2f}%'.format(\n",
        "        epoch, train_loss, val_loss, 100. * train_correct / len(train_loader.dataset), 100. * val_correct / len(val_loader.dataset)))"
      ]
    },
    {
      "cell_type": "code",
      "execution_count": 14,
      "metadata": {
        "id": "9pfLjJrI22XQ",
        "colab": {
          "base_uri": "https://localhost:8080/",
          "height": 265
        },
        "outputId": "1f9f7237-34e0-4770-9d67-e44c97dd16f9"
      },
      "outputs": [
        {
          "output_type": "display_data",
          "data": {
            "text/plain": [
              "<Figure size 432x288 with 1 Axes>"
            ],
            "image/png": "[encoded data removed]"
          },
          "metadata": {
            "needs_background": "light"
          }
        }
      ],
      "source": [
        "# Plot Graph of Train & Val Loss vs Epoch (together in same plot) for model B\n",
        "plt.plot(train_lossesB, label='Training Loss')\n",
        "plt.plot(val_lossesB, label='Validation Loss')\n",
        "plt.legend()\n",
        "plt.show()"
      ]
    },
    {
      "cell_type": "code",
      "execution_count": 15,
      "metadata": {
        "id": "KOy6REpK22XQ",
        "colab": {
          "base_uri": "https://localhost:8080/",
          "height": 265
        },
        "outputId": "dcdac619-8f13-467e-9c47-b5f32537580f"
      },
      "outputs": [
        {
          "output_type": "display_data",
          "data": {
            "text/plain": [
              "<Figure size 432x288 with 1 Axes>"
            ],
            "image/png": "[encoded data removed]"
          },
          "metadata": {
            "needs_background": "light"
          }
        }
      ],
      "source": [
        "# Plot Graph of Train & Val Accuracy vs Epoch (together in same plot) for model B\n",
        "plt.plot(train_accB, label='Training Accuracy')\n",
        "plt.plot(val_accB, label='Validation Accuracy')\n",
        "plt.legend()\n",
        "plt.show()"
      ]
    },
    {
      "cell_type": "markdown",
      "metadata": {
        "id": "4JslKXgq3AUT"
      },
      "source": [
        "### Model C\n"
      ]
    },
    {
      "cell_type": "code",
      "execution_count": 16,
      "metadata": {
        "id": "2m3w2F5J22mq",
        "colab": {
          "base_uri": "https://localhost:8080/"
        },
        "outputId": "bfaf46d9-f0b9-4e12-95e1-28a455db9443"
      },
      "outputs": [
        {
          "output_type": "stream",
          "name": "stdout",
          "text": [
            "Epoch: 0 \tTraining Loss: 0.005419 \tValidation Loss: 0.003009 \tTraining Accuracy: 89.17% \tValidation Accuracy: 94.07%\n",
            "Epoch: 1 \tTraining Loss: 0.002204 \tValidation Loss: 0.002180 \tTraining Accuracy: 95.74% \tValidation Accuracy: 95.67%\n",
            "Epoch: 2 \tTraining Loss: 0.001640 \tValidation Loss: 0.001892 \tTraining Accuracy: 96.74% \tValidation Accuracy: 96.34%\n",
            "Epoch: 3 \tTraining Loss: 0.001319 \tValidation Loss: 0.001997 \tTraining Accuracy: 97.38% \tValidation Accuracy: 96.30%\n",
            "Epoch: 4 \tTraining Loss: 0.001131 \tValidation Loss: 0.001796 \tTraining Accuracy: 97.73% \tValidation Accuracy: 96.68%\n",
            "Epoch: 5 \tTraining Loss: 0.000926 \tValidation Loss: 0.001775 \tTraining Accuracy: 98.15% \tValidation Accuracy: 96.90%\n",
            "Epoch: 6 \tTraining Loss: 0.000828 \tValidation Loss: 0.001525 \tTraining Accuracy: 98.32% \tValidation Accuracy: 97.27%\n",
            "Epoch: 7 \tTraining Loss: 0.000700 \tValidation Loss: 0.001796 \tTraining Accuracy: 98.58% \tValidation Accuracy: 96.75%\n",
            "Epoch: 8 \tTraining Loss: 0.000663 \tValidation Loss: 0.001785 \tTraining Accuracy: 98.62% \tValidation Accuracy: 96.81%\n",
            "Epoch: 9 \tTraining Loss: 0.000559 \tValidation Loss: 0.002205 \tTraining Accuracy: 98.85% \tValidation Accuracy: 96.71%\n"
          ]
        }
      ],
      "source": [
        "# Training Loop for model C\n",
        "train_lossesC = []\n",
        "val_lossesC = []\n",
        "train_accC = []\n",
        "val_accC = []\n",
        "\n",
        "for epoch in range(EPOCHS):\n",
        "    train_loss = 0.0\n",
        "    val_loss = 0.0\n",
        "    train_correct = 0\n",
        "    val_correct = 0\n",
        "    \n",
        "    modelC.train()\n",
        "    for data, target in train_loader:\n",
        "        data = data.view(-1, 28*28)\n",
        "        optimizerC.zero_grad()\n",
        "        output = modelC(data)\n",
        "        loss = criterion(output, target)\n",
        "        loss.backward()\n",
        "        optimizerC.step()\n",
        "        train_loss += loss.item()\n",
        "        pred = output.data.max(1, keepdim=True)[1]\n",
        "        train_correct += pred.eq(target.data.view_as(pred)).sum()\n",
        "    \n",
        "    modelC.eval()\n",
        "    for data, target in val_loader:\n",
        "        data = data.view(-1, 28*28)\n",
        "        output = modelC(data)\n",
        "        loss = criterion(output, target)\n",
        "        val_loss += loss.item()\n",
        "        pred = output.data.max(1, keepdim=True)[1]\n",
        "        val_correct += pred.eq(target.data.view_as(pred)).sum()\n",
        "    \n",
        "    train_loss /= len(train_loader.dataset)\n",
        "    val_loss /= len(val_loader.dataset)\n",
        "    train_lossesC.append(train_loss)\n",
        "    val_lossesC.append(val_loss)\n",
        "    train_accC.append(100. * train_correct / len(train_loader.dataset))\n",
        "    val_accC.append(100. * val_correct / len(val_loader.dataset))\n",
        "    print('Epoch: {} \\tTraining Loss: {:.6f} \\tValidation Loss: {:.6f} \\tTraining Accuracy: {:.2f}% \\tValidation Accuracy: {:.2f}%'.format(\n",
        "        epoch, train_loss, val_loss, 100. * train_correct / len(train_loader.dataset), 100. * val_correct / len(val_loader.dataset)))"
      ]
    },
    {
      "cell_type": "code",
      "execution_count": 17,
      "metadata": {
        "id": "eN5XtgCl22mq",
        "colab": {
          "base_uri": "https://localhost:8080/",
          "height": 265
        },
        "outputId": "6301ef69-6602-4902-cb9f-daa873fc49f0"
      },
      "outputs": [
        {
          "output_type": "display_data",
          "data": {
            "text/plain": [
              "<Figure size 432x288 with 1 Axes>"
            ],
            "image/png": "[encoded data removed]"
          },
          "metadata": {
            "needs_background": "light"
          }
        }
      ],
      "source": [
        "# Plot Graph of Train & Val Loss vs Epoch (together in same plot) for model C\n",
        "plt.plot(train_lossesC, label='Training Loss')\n",
        "plt.plot(val_lossesC, label='Validation Loss')\n",
        "plt.legend()\n",
        "plt.show()"
      ]
    },
    {
      "cell_type": "code",
      "execution_count": 18,
      "metadata": {
        "id": "xwOen7-V22mr",
        "colab": {
          "base_uri": "https://localhost:8080/",
          "height": 265
        },
        "outputId": "c177ffd7-563b-4bda-d970-260d11cc29d2"
      },
      "outputs": [
        {
          "output_type": "display_data",
          "data": {
            "text/plain": [
              "<Figure size 432x288 with 1 Axes>"
            ],
            "image/png": "[encoded data removed]"
          },
          "metadata": {
            "needs_background": "light"
          }
        }
      ],
      "source": [
        "# Plot Graph of Train & Val Accuracy vs Epoch (together in same plot) for model C\n",
        "plt.plot(train_accC, label='Training Accuracy')\n",
        "plt.plot(val_accC, label='Validation Accuracy')\n",
        "plt.legend()\n",
        "plt.show()"
      ]
    },
    {
      "cell_type": "markdown",
      "metadata": {
        "id": "AZuT5E_r3LbK"
      },
      "source": [
        "## Choosing a Activation Function [10 marks]\n",
        "\n",
        "Based on the best performing model you found above, define 2 more models with these 2 activation functions (1 activation function is used throughout the model definiation). Use these Activation funcitons \n",
        "\n",
        "\n",
        "*   Tanh\n",
        "*   LeakyRELU"
      ]
    },
    {
      "cell_type": "code",
      "execution_count": 19,
      "metadata": {
        "id": "uhAK1dvg3vkf"
      },
      "outputs": [],
      "source": [
        "# Leaky ReLU model definiton\n",
        "class ModelLeakyReLU(torch.nn.Module):\n",
        "    def __init__(self, input_size, num_classes):\n",
        "        super(ModelLeakyReLU, self).__init__()\n",
        "        self.fc1 = torch.nn.Linear(input_size, 64)\n",
        "        self.fc2 = torch.nn.Linear(64, 128)\n",
        "        self.fc3 = torch.nn.Linear(128, 256)\n",
        "        self.fc4 = torch.nn.Linear(256, 512)\n",
        "        self.fc5 = torch.nn.Linear(512, num_classes)\n",
        "        self.leakyrelu = torch.nn.LeakyReLU()\n",
        "\n",
        "    def forward(self, x):\n",
        "        x = self.fc1(x)\n",
        "        x = self.leakyrelu(x)\n",
        "        x = self.fc2(x)\n",
        "        x = self.leakyrelu(x)\n",
        "        x = self.fc3(x)\n",
        "        x = self.leakyrelu(x)\n",
        "        x = self.fc4(x)\n",
        "        x = self.leakyrelu(x)\n",
        "        x = self.fc5(x)\n",
        "        return x\n",
        "\n",
        "# Tanh model definition\n",
        "class ModelTanh(torch.nn.Module):\n",
        "    def __init__(self, input_size, num_classes):\n",
        "        super(ModelTanh, self).__init__()\n",
        "        self.fc1 = torch.nn.Linear(input_size, 64)\n",
        "        self.fc2 = torch.nn.Linear(64, 128)\n",
        "        self.fc3 = torch.nn.Linear(128, 256)\n",
        "        self.fc4 = torch.nn.Linear(256, 512)\n",
        "        self.fc5 = torch.nn.Linear(512, num_classes)\n",
        "        self.tanh = torch.nn.Tanh()\n",
        "\n",
        "    def forward(self, x):\n",
        "        x = self.fc1(x)\n",
        "        x = self.tanh(x)\n",
        "        x = self.fc2(x)\n",
        "        x = self.tanh(x)\n",
        "        x = self.fc3(x)\n",
        "        x = self.tanh(x)\n",
        "        x = self.fc4(x)\n",
        "        x = self.tanh(x)\n",
        "        x = self.fc5(x)\n",
        "        return x\n",
        "\n",
        "# Maintain these variable names\n",
        "model_lrelu = ModelLeakyReLU(input_size, num_classes)\n",
        "model_tanh = ModelTanh(input_size, num_classes)\n",
        "\n",
        "optimizer_lrelu = optimizer(model_lrelu.parameters(), lr=LEARNING_RATE)\n",
        "optimizer_tanh = optimizer(model_tanh.parameters(), lr=LEARNING_RATE)"
      ]
    },
    {
      "cell_type": "markdown",
      "metadata": {
        "id": "3P1fzs0P4Anx"
      },
      "source": [
        "### Training \n",
        "\n",
        "Train these two models with the same hyperparameters. Train in separate cells given below, and report the same metrics descrived previously (train_loss, val_loss, train_acc, val_acc)"
      ]
    },
    {
      "cell_type": "code",
      "execution_count": 20,
      "metadata": {
        "id": "-OAT_Rx64T0a",
        "colab": {
          "base_uri": "https://localhost:8080/"
        },
        "outputId": "d1289b9a-0c13-437c-b2f6-b5be8f13dd25"
      },
      "outputs": [
        {
          "output_type": "stream",
          "name": "stdout",
          "text": [
            "Epoch: 0 \tTraining Loss: 0.005158 \tValidation Loss: 0.002614 \tTraining Accuracy: 89.89% \tValidation Accuracy: 95.01%\n",
            "Epoch: 1 \tTraining Loss: 0.002104 \tValidation Loss: 0.002969 \tTraining Accuracy: 95.87% \tValidation Accuracy: 94.49%\n",
            "Epoch: 2 \tTraining Loss: 0.001571 \tValidation Loss: 0.001768 \tTraining Accuracy: 97.00% \tValidation Accuracy: 96.56%\n",
            "Epoch: 3 \tTraining Loss: 0.001261 \tValidation Loss: 0.001824 \tTraining Accuracy: 97.49% \tValidation Accuracy: 96.40%\n",
            "Epoch: 4 \tTraining Loss: 0.001060 \tValidation Loss: 0.002011 \tTraining Accuracy: 97.88% \tValidation Accuracy: 96.35%\n",
            "Epoch: 5 \tTraining Loss: 0.000912 \tValidation Loss: 0.001781 \tTraining Accuracy: 98.17% \tValidation Accuracy: 96.83%\n",
            "Epoch: 6 \tTraining Loss: 0.000745 \tValidation Loss: 0.002076 \tTraining Accuracy: 98.47% \tValidation Accuracy: 96.56%\n",
            "Epoch: 7 \tTraining Loss: 0.000662 \tValidation Loss: 0.001854 \tTraining Accuracy: 98.61% \tValidation Accuracy: 97.09%\n",
            "Epoch: 8 \tTraining Loss: 0.000635 \tValidation Loss: 0.001620 \tTraining Accuracy: 98.68% \tValidation Accuracy: 97.19%\n",
            "Epoch: 9 \tTraining Loss: 0.000548 \tValidation Loss: 0.001527 \tTraining Accuracy: 98.82% \tValidation Accuracy: 97.37%\n"
          ]
        }
      ],
      "source": [
        "# Training Loop for LRELU\n",
        "train_lossesLRELU = []\n",
        "val_lossesLRELU = []\n",
        "train_accLRELU = []\n",
        "val_accLRELU = []\n",
        "\n",
        "for epoch in range(EPOCHS):\n",
        "    train_loss = 0.0\n",
        "    val_loss = 0.0\n",
        "    train_correct = 0\n",
        "    val_correct = 0\n",
        "    \n",
        "    model_lrelu.train()\n",
        "    for data, target in train_loader:\n",
        "        data = data.view(-1, 28*28)\n",
        "        optimizer_lrelu.zero_grad()\n",
        "        output = model_lrelu(data)\n",
        "        loss = criterion(output, target)\n",
        "        loss.backward()\n",
        "        optimizer_lrelu.step()\n",
        "        train_loss += loss.item()\n",
        "        pred = output.data.max(1, keepdim=True)[1]\n",
        "        train_correct += pred.eq(target.data.view_as(pred)).sum()\n",
        "    \n",
        "    model_lrelu.eval()\n",
        "    for data, target in val_loader:\n",
        "        data = data.view(-1, 28*28)\n",
        "        output = model_lrelu(data)\n",
        "        loss = criterion(output, target)\n",
        "        val_loss += loss.item()\n",
        "        pred = output.data.max(1, keepdim=True)[1]\n",
        "        val_correct += pred.eq(target.data.view_as(pred)).sum()\n",
        "    \n",
        "    train_loss /= len(train_loader.dataset)\n",
        "    val_loss /= len(val_loader.dataset)\n",
        "    train_lossesLRELU.append(train_loss)\n",
        "    val_lossesLRELU.append(val_loss)\n",
        "    train_accLRELU.append(100. * train_correct / len(train_loader.dataset))\n",
        "    val_accLRELU.append(100. * val_correct / len(val_loader.dataset))\n",
        "    print('Epoch: {} \\tTraining Loss: {:.6f} \\tValidation Loss: {:.6f} \\tTraining Accuracy: {:.2f}% \\tValidation Accuracy: {:.2f}%'.format(\n",
        "        epoch, train_loss, val_loss, 100. * train_correct / len(train_loader.dataset), 100. * val_correct / len(val_loader.dataset)))"
      ]
    },
    {
      "cell_type": "code",
      "execution_count": 21,
      "metadata": {
        "id": "QuobAEP44Wrz",
        "colab": {
          "base_uri": "https://localhost:8080/"
        },
        "outputId": "ba792a4a-4fa9-416c-e48b-51278b5f56c5"
      },
      "outputs": [
        {
          "output_type": "stream",
          "name": "stdout",
          "text": [
            "Epoch: 0 \tTraining Loss: 0.005377 \tValidation Loss: 0.003921 \tTraining Accuracy: 89.56% \tValidation Accuracy: 92.60%\n",
            "Epoch: 1 \tTraining Loss: 0.002816 \tValidation Loss: 0.002686 \tTraining Accuracy: 94.56% \tValidation Accuracy: 94.95%\n",
            "Epoch: 2 \tTraining Loss: 0.002129 \tValidation Loss: 0.002404 \tTraining Accuracy: 95.77% \tValidation Accuracy: 95.59%\n",
            "Epoch: 3 \tTraining Loss: 0.001670 \tValidation Loss: 0.002242 \tTraining Accuracy: 96.78% \tValidation Accuracy: 95.87%\n",
            "Epoch: 4 \tTraining Loss: 0.001469 \tValidation Loss: 0.002593 \tTraining Accuracy: 97.02% \tValidation Accuracy: 95.30%\n",
            "Epoch: 5 \tTraining Loss: 0.001225 \tValidation Loss: 0.002177 \tTraining Accuracy: 97.58% \tValidation Accuracy: 96.04%\n",
            "Epoch: 6 \tTraining Loss: 0.001029 \tValidation Loss: 0.002077 \tTraining Accuracy: 97.89% \tValidation Accuracy: 96.40%\n",
            "Epoch: 7 \tTraining Loss: 0.000918 \tValidation Loss: 0.002071 \tTraining Accuracy: 98.17% \tValidation Accuracy: 96.44%\n",
            "Epoch: 8 \tTraining Loss: 0.000829 \tValidation Loss: 0.002013 \tTraining Accuracy: 98.28% \tValidation Accuracy: 96.61%\n",
            "Epoch: 9 \tTraining Loss: 0.000663 \tValidation Loss: 0.002096 \tTraining Accuracy: 98.65% \tValidation Accuracy: 96.62%\n"
          ]
        }
      ],
      "source": [
        "# Training Loop for TanH\n",
        "train_lossesTANH = []\n",
        "val_lossesTANH = []\n",
        "train_accTANH = []\n",
        "val_accTANH = []\n",
        "\n",
        "for epoch in range(EPOCHS):\n",
        "    train_loss = 0.0\n",
        "    val_loss = 0.0\n",
        "    train_correct = 0\n",
        "    val_correct = 0\n",
        "    \n",
        "    model_tanh.train()\n",
        "    for data, target in train_loader:\n",
        "        data = data.view(-1, 28*28)\n",
        "        optimizer_tanh.zero_grad()\n",
        "        output = model_tanh(data)\n",
        "        loss = criterion(output, target)\n",
        "        loss.backward()\n",
        "        optimizer_tanh.step()\n",
        "        train_loss += loss.item()\n",
        "        pred = output.data.max(1, keepdim=True)[1]\n",
        "        train_correct += pred.eq(target.data.view_as(pred)).sum()\n",
        "    \n",
        "    model_tanh.eval()\n",
        "    for data, target in val_loader:\n",
        "        data = data.view(-1, 28*28)\n",
        "        output = model_tanh(data)\n",
        "        loss = criterion(output, target)\n",
        "        val_loss += loss.item()\n",
        "        pred = output.data.max(1, keepdim=True)[1]\n",
        "        val_correct += pred.eq(target.data.view_as(pred)).sum()\n",
        "    \n",
        "    train_loss /= len(train_loader.dataset)\n",
        "    val_loss /= len(val_loader.dataset)\n",
        "    train_lossesTANH.append(train_loss)\n",
        "    val_lossesTANH.append(val_loss)\n",
        "    train_accTANH.append(100. * train_correct / len(train_loader.dataset))\n",
        "    val_accTANH.append(100. * val_correct / len(val_loader.dataset))\n",
        "    print('Epoch: {} \\tTraining Loss: {:.6f} \\tValidation Loss: {:.6f} \\tTraining Accuracy: {:.2f}% \\tValidation Accuracy: {:.2f}%'.format(\n",
        "        epoch, train_loss, val_loss, 100. * train_correct / len(train_loader.dataset), 100. * val_correct / len(val_loader.dataset)))"
      ]
    },
    {
      "cell_type": "markdown",
      "metadata": {
        "id": "WjH0LdKA4tYW"
      },
      "source": [
        "### Results on Test Set\n",
        "\n",
        "Report the Test Set classfication accuracy for the three activation functions (ReLU, LeakyReLU & TanH) and state which activation function gave the best performance on test set"
      ]
    },
    {
      "cell_type": "code",
      "execution_count": 22,
      "metadata": {
        "id": "gFeLvSrN4vT_"
      },
      "outputs": [],
      "source": [
        "# Define how to calculate Accuracy on Test Set\n",
        "def test(model):\n",
        "    correct = 0\n",
        "    total = 0\n",
        "    for data, target in test_loader:\n",
        "        data = data.view(-1, 28*28)\n",
        "        output = model(data)\n",
        "        pred = output.data.max(1, keepdim=True)[1]\n",
        "        correct += pred.eq(target.data.view_as(pred)).sum()\n",
        "        total += target.size(0)\n",
        "    return 100. * correct / total"
      ]
    },
    {
      "cell_type": "code",
      "execution_count": 23,
      "metadata": {
        "id": "q8dhJf4W7cKu",
        "colab": {
          "base_uri": "https://localhost:8080/"
        },
        "outputId": "5f82ab92-147b-4f4f-b5b3-687122959002"
      },
      "outputs": [
        {
          "output_type": "stream",
          "name": "stdout",
          "text": [
            "Accuracy of RELU model: 96.9000015258789%\n"
          ]
        }
      ],
      "source": [
        "# Accuracy of RELU model\n",
        "print('Accuracy of RELU model: {}%'.format(test(modelC)))"
      ]
    },
    {
      "cell_type": "code",
      "execution_count": 24,
      "metadata": {
        "id": "Uouc_R9t7cV3",
        "colab": {
          "base_uri": "https://localhost:8080/"
        },
        "outputId": "2cc9d3d0-9819-48eb-d1e9-37b70e3e0258"
      },
      "outputs": [
        {
          "output_type": "stream",
          "name": "stdout",
          "text": [
            "Accuracy of TanH model: 96.81999969482422%\n"
          ]
        }
      ],
      "source": [
        "# Accuracy of TanH model\n",
        "print('Accuracy of TanH model: {}%'.format(test(model_tanh)))"
      ]
    },
    {
      "cell_type": "code",
      "execution_count": 25,
      "metadata": {
        "id": "tjLBwh577chM",
        "colab": {
          "base_uri": "https://localhost:8080/"
        },
        "outputId": "6ad98318-d586-4508-c3a2-dfce51bf1070"
      },
      "outputs": [
        {
          "output_type": "stream",
          "name": "stdout",
          "text": [
            "Accuracy of LeakyReLU model: 97.70999908447266%\n"
          ]
        }
      ],
      "source": [
        "# Accuracy of LeakyReLU model\n",
        "print('Accuracy of LeakyReLU model: {}%'.format(test(model_lrelu)))"
      ]
    },
    {
      "cell_type": "markdown",
      "metadata": {
        "id": "5xelRHJV7Lmj"
      },
      "source": [
        "Fill in these with the values you obtained from training.\n",
        "\n",
        "* ReLU model Test Set Accuracy: `96.9000015258789` %\n",
        "* TanH model Test Set Accuracy: `96.81999969482422` %\n",
        "* LeakReLU model Test Set Accuracy: `97.70999908447266` %"
      ]
    }
  ],
  "metadata": {
    "accelerator": "GPU",
    "colab": {
      "provenance": []
    },
    "gpuClass": "standard",
    "kernelspec": {
      "display_name": "Python 3",
      "language": "python",
      "name": "python3"
    },
    "language_info": {
      "name": "python",
      "version": "3.10.6"
    },
    "vscode": {
      "interpreter": {
        "hash": "916dbcbb3f70747c44a77c7bcd40155683ae19c65e1c03b4aa3499c5328201f1"
      }
    },
    "widgets": {
      "application/vnd.jupyter.widget-state+json": {
        "28790a7df50b41a1bc1bd7824a2bb2ae": {
          "model_module": "@jupyter-widgets/controls",
          "model_name": "HBoxModel",
          "model_module_version": "1.5.0",
          "state": {
            "_dom_classes": [],
            "_model_module": "@jupyter-widgets/controls",
            "_model_module_version": "1.5.0",
            "_model_name": "HBoxModel",
            "_view_count": null,
            "_view_module": "@jupyter-widgets/controls",
            "_view_module_version": "1.5.0",
            "_view_name": "HBoxView",
            "box_style": "",
            "children": [
              "IPY_MODEL_b24945571ac043d0b09393b7f0096bcf",
              "IPY_MODEL_c45fdcb30874449d8085f517bbd6c537",
              "IPY_MODEL_00d467db72ed41d882731aeb3665c829"
            ],
            "layout": "IPY_MODEL_c86817d3c8024ae2954e6f61df65f119"
          }
        },
        "b24945571ac043d0b09393b7f0096bcf": {
          "model_module": "@jupyter-widgets/controls",
          "model_name": "HTMLModel",
          "model_module_version": "1.5.0",
          "state": {
            "_dom_classes": [],
            "_model_module": "@jupyter-widgets/controls",
            "_model_module_version": "1.5.0",
            "_model_name": "HTMLModel",
            "_view_count": null,
            "_view_module": "@jupyter-widgets/controls",
            "_view_module_version": "1.5.0",
            "_view_name": "HTMLView",
            "description": "",
            "description_tooltip": null,
            "layout": "IPY_MODEL_30b911bb370b44b8a7817745fc19cb55",
            "placeholder": "​",
            "style": "IPY_MODEL_027ff38249c340a78297739556a936b4",
            "value": "100%"
          }
        },
        "c45fdcb30874449d8085f517bbd6c537": {
          "model_module": "@jupyter-widgets/controls",
          "model_name": "FloatProgressModel",
          "model_module_version": "1.5.0",
          "state": {
            "_dom_classes": [],
            "_model_module": "@jupyter-widgets/controls",
            "_model_module_version": "1.5.0",
            "_model_name": "FloatProgressModel",
            "_view_count": null,
            "_view_module": "@jupyter-widgets/controls",
            "_view_module_version": "1.5.0",
            "_view_name": "ProgressView",
            "bar_style": "success",
            "description": "",
            "description_tooltip": null,
            "layout": "IPY_MODEL_2de957f1c7ec4649a4fa913c5d54cc7f",
            "max": 9912422,
            "min": 0,
            "orientation": "horizontal",
            "style": "IPY_MODEL_41892bac0c2442ffbc3f97b0554f2edb",
            "value": 9912422
          }
        },
        "00d467db72ed41d882731aeb3665c829": {
          "model_module": "@jupyter-widgets/controls",
          "model_name": "HTMLModel",
          "model_module_version": "1.5.0",
          "state": {
            "_dom_classes": [],
            "_model_module": "@jupyter-widgets/controls",
            "_model_module_version": "1.5.0",
            "_model_name": "HTMLModel",
            "_view_count": null,
            "_view_module": "@jupyter-widgets/controls",
            "_view_module_version": "1.5.0",
            "_view_name": "HTMLView",
            "description": "",
            "description_tooltip": null,
            "layout": "IPY_MODEL_399a5f483d7f4d43b4eea4ee60a6b610",
            "placeholder": "​",
            "style": "IPY_MODEL_0377a2218e7a427bbb6a602152b55651",
            "value": " 9912422/9912422 [00:00&lt;00:00, 215909302.74it/s]"
          }
        },
        "c86817d3c8024ae2954e6f61df65f119": {
          "model_module": "@jupyter-widgets/base",
          "model_name": "LayoutModel",
          "model_module_version": "1.2.0",
          "state": {
            "_model_module": "@jupyter-widgets/base",
            "_model_module_version": "1.2.0",
            "_model_name": "LayoutModel",
            "_view_count": null,
            "_view_module": "@jupyter-widgets/base",
            "_view_module_version": "1.2.0",
            "_view_name": "LayoutView",
            "align_content": null,
            "align_items": null,
            "align_self": null,
            "border": null,
            "bottom": null,
            "display": null,
            "flex": null,
            "flex_flow": null,
            "grid_area": null,
            "grid_auto_columns": null,
            "grid_auto_flow": null,
            "grid_auto_rows": null,
            "grid_column": null,
            "grid_gap": null,
            "grid_row": null,
            "grid_template_areas": null,
            "grid_template_columns": null,
            "grid_template_rows": null,
            "height": null,
            "justify_content": null,
            "justify_items": null,
            "left": null,
            "margin": null,
            "max_height": null,
            "max_width": null,
            "min_height": null,
            "min_width": null,
            "object_fit": null,
            "object_position": null,
            "order": null,
            "overflow": null,
            "overflow_x": null,
            "overflow_y": null,
            "padding": null,
            "right": null,
            "top": null,
            "visibility": null,
            "width": null
          }
        },
        "30b911bb370b44b8a7817745fc19cb55": {
          "model_module": "@jupyter-widgets/base",
          "model_name": "LayoutModel",
          "model_module_version": "1.2.0",
          "state": {
            "_model_module": "@jupyter-widgets/base",
            "_model_module_version": "1.2.0",
            "_model_name": "LayoutModel",
            "_view_count": null,
            "_view_module": "@jupyter-widgets/base",
            "_view_module_version": "1.2.0",
            "_view_name": "LayoutView",
            "align_content": null,
            "align_items": null,
            "align_self": null,
            "border": null,
            "bottom": null,
            "display": null,
            "flex": null,
            "flex_flow": null,
            "grid_area": null,
            "grid_auto_columns": null,
            "grid_auto_flow": null,
            "grid_auto_rows": null,
            "grid_column": null,
            "grid_gap": null,
            "grid_row": null,
            "grid_template_areas": null,
            "grid_template_columns": null,
            "grid_template_rows": null,
            "height": null,
            "justify_content": null,
            "justify_items": null,
            "left": null,
            "margin": null,
            "max_height": null,
            "max_width": null,
            "min_height": null,
            "min_width": null,
            "object_fit": null,
            "object_position": null,
            "order": null,
            "overflow": null,
            "overflow_x": null,
            "overflow_y": null,
            "padding": null,
            "right": null,
            "top": null,
            "visibility": null,
            "width": null
          }
        },
        "027ff38249c340a78297739556a936b4": {
          "model_module": "@jupyter-widgets/controls",
          "model_name": "DescriptionStyleModel",
          "model_module_version": "1.5.0",
          "state": {
            "_model_module": "@jupyter-widgets/controls",
            "_model_module_version": "1.5.0",
            "_model_name": "DescriptionStyleModel",
            "_view_count": null,
            "_view_module": "@jupyter-widgets/base",
            "_view_module_version": "1.2.0",
            "_view_name": "StyleView",
            "description_width": ""
          }
        },
        "2de957f1c7ec4649a4fa913c5d54cc7f": {
          "model_module": "@jupyter-widgets/base",
          "model_name": "LayoutModel",
          "model_module_version": "1.2.0",
          "state": {
            "_model_module": "@jupyter-widgets/base",
            "_model_module_version": "1.2.0",
            "_model_name": "LayoutModel",
            "_view_count": null,
            "_view_module": "@jupyter-widgets/base",
            "_view_module_version": "1.2.0",
            "_view_name": "LayoutView",
            "align_content": null,
            "align_items": null,
            "align_self": null,
            "border": null,
            "bottom": null,
            "display": null,
            "flex": null,
            "flex_flow": null,
            "grid_area": null,
            "grid_auto_columns": null,
            "grid_auto_flow": null,
            "grid_auto_rows": null,
            "grid_column": null,
            "grid_gap": null,
            "grid_row": null,
            "grid_template_areas": null,
            "grid_template_columns": null,
            "grid_template_rows": null,
            "height": null,
            "justify_content": null,
            "justify_items": null,
            "left": null,
            "margin": null,
            "max_height": null,
            "max_width": null,
            "min_height": null,
            "min_width": null,
            "object_fit": null,
            "object_position": null,
            "order": null,
            "overflow": null,
            "overflow_x": null,
            "overflow_y": null,
            "padding": null,
            "right": null,
            "top": null,
            "visibility": null,
            "width": null
          }
        },
        "41892bac0c2442ffbc3f97b0554f2edb": {
          "model_module": "@jupyter-widgets/controls",
          "model_name": "ProgressStyleModel",
          "model_module_version": "1.5.0",
          "state": {
            "_model_module": "@jupyter-widgets/controls",
            "_model_module_version": "1.5.0",
            "_model_name": "ProgressStyleModel",
            "_view_count": null,
            "_view_module": "@jupyter-widgets/base",
            "_view_module_version": "1.2.0",
            "_view_name": "StyleView",
            "bar_color": null,
            "description_width": ""
          }
        },
        "399a5f483d7f4d43b4eea4ee60a6b610": {
          "model_module": "@jupyter-widgets/base",
          "model_name": "LayoutModel",
          "model_module_version": "1.2.0",
          "state": {
            "_model_module": "@jupyter-widgets/base",
            "_model_module_version": "1.2.0",
            "_model_name": "LayoutModel",
            "_view_count": null,
            "_view_module": "@jupyter-widgets/base",
            "_view_module_version": "1.2.0",
            "_view_name": "LayoutView",
            "align_content": null,
            "align_items": null,
            "align_self": null,
            "border": null,
            "bottom": null,
            "display": null,
            "flex": null,
            "flex_flow": null,
            "grid_area": null,
            "grid_auto_columns": null,
            "grid_auto_flow": null,
            "grid_auto_rows": null,
            "grid_column": null,
            "grid_gap": null,
            "grid_row": null,
            "grid_template_areas": null,
            "grid_template_columns": null,
            "grid_template_rows": null,
            "height": null,
            "justify_content": null,
            "justify_items": null,
            "left": null,
            "margin": null,
            "max_height": null,
            "max_width": null,
            "min_height": null,
            "min_width": null,
            "object_fit": null,
            "object_position": null,
            "order": null,
            "overflow": null,
            "overflow_x": null,
            "overflow_y": null,
            "padding": null,
            "right": null,
            "top": null,
            "visibility": null,
            "width": null
          }
        },
        "0377a2218e7a427bbb6a602152b55651": {
          "model_module": "@jupyter-widgets/controls",
          "model_name": "DescriptionStyleModel",
          "model_module_version": "1.5.0",
          "state": {
            "_model_module": "@jupyter-widgets/controls",
            "_model_module_version": "1.5.0",
            "_model_name": "DescriptionStyleModel",
            "_view_count": null,
            "_view_module": "@jupyter-widgets/base",
            "_view_module_version": "1.2.0",
            "_view_name": "StyleView",
            "description_width": ""
          }
        },
        "9edcef85037b4cecac3454160c3a0eb5": {
          "model_module": "@jupyter-widgets/controls",
          "model_name": "HBoxModel",
          "model_module_version": "1.5.0",
          "state": {
            "_dom_classes": [],
            "_model_module": "@jupyter-widgets/controls",
            "_model_module_version": "1.5.0",
            "_model_name": "HBoxModel",
            "_view_count": null,
            "_view_module": "@jupyter-widgets/controls",
            "_view_module_version": "1.5.0",
            "_view_name": "HBoxView",
            "box_style": "",
            "children": [
              "IPY_MODEL_9e994ca649b34303b0cfa896c1eb1ef9",
              "IPY_MODEL_bb88d9d6aa2e45a09d77baa46e714711",
              "IPY_MODEL_9ab27e45a1a543d2ba93077ed44ec8c5"
            ],
            "layout": "IPY_MODEL_2509a935f2784065a9129e6778838e09"
          }
        },
        "9e994ca649b34303b0cfa896c1eb1ef9": {
          "model_module": "@jupyter-widgets/controls",
          "model_name": "HTMLModel",
          "model_module_version": "1.5.0",
          "state": {
            "_dom_classes": [],
            "_model_module": "@jupyter-widgets/controls",
            "_model_module_version": "1.5.0",
            "_model_name": "HTMLModel",
            "_view_count": null,
            "_view_module": "@jupyter-widgets/controls",
            "_view_module_version": "1.5.0",
            "_view_name": "HTMLView",
            "description": "",
            "description_tooltip": null,
            "layout": "IPY_MODEL_92b253d8b6b4493cb5bb772820d5a579",
            "placeholder": "​",
            "style": "IPY_MODEL_fe94e1c35ac54ca3bb06b35b19c16246",
            "value": "100%"
          }
        },
        "bb88d9d6aa2e45a09d77baa46e714711": {
          "model_module": "@jupyter-widgets/controls",
          "model_name": "FloatProgressModel",
          "model_module_version": "1.5.0",
          "state": {
            "_dom_classes": [],
            "_model_module": "@jupyter-widgets/controls",
            "_model_module_version": "1.5.0",
            "_model_name": "FloatProgressModel",
            "_view_count": null,
            "_view_module": "@jupyter-widgets/controls",
            "_view_module_version": "1.5.0",
            "_view_name": "ProgressView",
            "bar_style": "success",
            "description": "",
            "description_tooltip": null,
            "layout": "IPY_MODEL_4ac3c83373774a9fb25bed315e0ba168",
            "max": 28881,
            "min": 0,
            "orientation": "horizontal",
            "style": "IPY_MODEL_18ec435ca5284edf8fca445460f9589a",
            "value": 28881
          }
        },
        "9ab27e45a1a543d2ba93077ed44ec8c5": {
          "model_module": "@jupyter-widgets/controls",
          "model_name": "HTMLModel",
          "model_module_version": "1.5.0",
          "state": {
            "_dom_classes": [],
            "_model_module": "@jupyter-widgets/controls",
            "_model_module_version": "1.5.0",
            "_model_name": "HTMLModel",
            "_view_count": null,
            "_view_module": "@jupyter-widgets/controls",
            "_view_module_version": "1.5.0",
            "_view_name": "HTMLView",
            "description": "",
            "description_tooltip": null,
            "layout": "IPY_MODEL_411138aec2fe4d8193586ffaf77e9d81",
            "placeholder": "​",
            "style": "IPY_MODEL_16ed6ca35ff546bfbe1a1114bd0cbf64",
            "value": " 28881/28881 [00:00&lt;00:00, 1210896.80it/s]"
          }
        },
        "2509a935f2784065a9129e6778838e09": {
          "model_module": "@jupyter-widgets/base",
          "model_name": "LayoutModel",
          "model_module_version": "1.2.0",
          "state": {
            "_model_module": "@jupyter-widgets/base",
            "_model_module_version": "1.2.0",
            "_model_name": "LayoutModel",
            "_view_count": null,
            "_view_module": "@jupyter-widgets/base",
            "_view_module_version": "1.2.0",
            "_view_name": "LayoutView",
            "align_content": null,
            "align_items": null,
            "align_self": null,
            "border": null,
            "bottom": null,
            "display": null,
            "flex": null,
            "flex_flow": null,
            "grid_area": null,
            "grid_auto_columns": null,
            "grid_auto_flow": null,
            "grid_auto_rows": null,
            "grid_column": null,
            "grid_gap": null,
            "grid_row": null,
            "grid_template_areas": null,
            "grid_template_columns": null,
            "grid_template_rows": null,
            "height": null,
            "justify_content": null,
            "justify_items": null,
            "left": null,
            "margin": null,
            "max_height": null,
            "max_width": null,
            "min_height": null,
            "min_width": null,
            "object_fit": null,
            "object_position": null,
            "order": null,
            "overflow": null,
            "overflow_x": null,
            "overflow_y": null,
            "padding": null,
            "right": null,
            "top": null,
            "visibility": null,
            "width": null
          }
        },
        "92b253d8b6b4493cb5bb772820d5a579": {
          "model_module": "@jupyter-widgets/base",
          "model_name": "LayoutModel",
          "model_module_version": "1.2.0",
          "state": {
            "_model_module": "@jupyter-widgets/base",
            "_model_module_version": "1.2.0",
            "_model_name": "LayoutModel",
            "_view_count": null,
            "_view_module": "@jupyter-widgets/base",
            "_view_module_version": "1.2.0",
            "_view_name": "LayoutView",
            "align_content": null,
            "align_items": null,
            "align_self": null,
            "border": null,
            "bottom": null,
            "display": null,
            "flex": null,
            "flex_flow": null,
            "grid_area": null,
            "grid_auto_columns": null,
            "grid_auto_flow": null,
            "grid_auto_rows": null,
            "grid_column": null,
            "grid_gap": null,
            "grid_row": null,
            "grid_template_areas": null,
            "grid_template_columns": null,
            "grid_template_rows": null,
            "height": null,
            "justify_content": null,
            "justify_items": null,
            "left": null,
            "margin": null,
            "max_height": null,
            "max_width": null,
            "min_height": null,
            "min_width": null,
            "object_fit": null,
            "object_position": null,
            "order": null,
            "overflow": null,
            "overflow_x": null,
            "overflow_y": null,
            "padding": null,
            "right": null,
            "top": null,
            "visibility": null,
            "width": null
          }
        },
        "fe94e1c35ac54ca3bb06b35b19c16246": {
          "model_module": "@jupyter-widgets/controls",
          "model_name": "DescriptionStyleModel",
          "model_module_version": "1.5.0",
          "state": {
            "_model_module": "@jupyter-widgets/controls",
            "_model_module_version": "1.5.0",
            "_model_name": "DescriptionStyleModel",
            "_view_count": null,
            "_view_module": "@jupyter-widgets/base",
            "_view_module_version": "1.2.0",
            "_view_name": "StyleView",
            "description_width": ""
          }
        },
        "4ac3c83373774a9fb25bed315e0ba168": {
          "model_module": "@jupyter-widgets/base",
          "model_name": "LayoutModel",
          "model_module_version": "1.2.0",
          "state": {
            "_model_module": "@jupyter-widgets/base",
            "_model_module_version": "1.2.0",
            "_model_name": "LayoutModel",
            "_view_count": null,
            "_view_module": "@jupyter-widgets/base",
            "_view_module_version": "1.2.0",
            "_view_name": "LayoutView",
            "align_content": null,
            "align_items": null,
            "align_self": null,
            "border": null,
            "bottom": null,
            "display": null,
            "flex": null,
            "flex_flow": null,
            "grid_area": null,
            "grid_auto_columns": null,
            "grid_auto_flow": null,
            "grid_auto_rows": null,
            "grid_column": null,
            "grid_gap": null,
            "grid_row": null,
            "grid_template_areas": null,
            "grid_template_columns": null,
            "grid_template_rows": null,
            "height": null,
            "justify_content": null,
            "justify_items": null,
            "left": null,
            "margin": null,
            "max_height": null,
            "max_width": null,
            "min_height": null,
            "min_width": null,
            "object_fit": null,
            "object_position": null,
            "order": null,
            "overflow": null,
            "overflow_x": null,
            "overflow_y": null,
            "padding": null,
            "right": null,
            "top": null,
            "visibility": null,
            "width": null
          }
        },
        "18ec435ca5284edf8fca445460f9589a": {
          "model_module": "@jupyter-widgets/controls",
          "model_name": "ProgressStyleModel",
          "model_module_version": "1.5.0",
          "state": {
            "_model_module": "@jupyter-widgets/controls",
            "_model_module_version": "1.5.0",
            "_model_name": "ProgressStyleModel",
            "_view_count": null,
            "_view_module": "@jupyter-widgets/base",
            "_view_module_version": "1.2.0",
            "_view_name": "StyleView",
            "bar_color": null,
            "description_width": ""
          }
        },
        "411138aec2fe4d8193586ffaf77e9d81": {
          "model_module": "@jupyter-widgets/base",
          "model_name": "LayoutModel",
          "model_module_version": "1.2.0",
          "state": {
            "_model_module": "@jupyter-widgets/base",
            "_model_module_version": "1.2.0",
            "_model_name": "LayoutModel",
            "_view_count": null,
            "_view_module": "@jupyter-widgets/base",
            "_view_module_version": "1.2.0",
            "_view_name": "LayoutView",
            "align_content": null,
            "align_items": null,
            "align_self": null,
            "border": null,
            "bottom": null,
            "display": null,
            "flex": null,
            "flex_flow": null,
            "grid_area": null,
            "grid_auto_columns": null,
            "grid_auto_flow": null,
            "grid_auto_rows": null,
            "grid_column": null,
            "grid_gap": null,
            "grid_row": null,
            "grid_template_areas": null,
            "grid_template_columns": null,
            "grid_template_rows": null,
            "height": null,
            "justify_content": null,
            "justify_items": null,
            "left": null,
            "margin": null,
            "max_height": null,
            "max_width": null,
            "min_height": null,
            "min_width": null,
            "object_fit": null,
            "object_position": null,
            "order": null,
            "overflow": null,
            "overflow_x": null,
            "overflow_y": null,
            "padding": null,
            "right": null,
            "top": null,
            "visibility": null,
            "width": null
          }
        },
        "16ed6ca35ff546bfbe1a1114bd0cbf64": {
          "model_module": "@jupyter-widgets/controls",
          "model_name": "DescriptionStyleModel",
          "model_module_version": "1.5.0",
          "state": {
            "_model_module": "@jupyter-widgets/controls",
            "_model_module_version": "1.5.0",
            "_model_name": "DescriptionStyleModel",
            "_view_count": null,
            "_view_module": "@jupyter-widgets/base",
            "_view_module_version": "1.2.0",
            "_view_name": "StyleView",
            "description_width": ""
          }
        },
        "2df79ff45c9245928ba5051d400e5484": {
          "model_module": "@jupyter-widgets/controls",
          "model_name": "HBoxModel",
          "model_module_version": "1.5.0",
          "state": {
            "_dom_classes": [],
            "_model_module": "@jupyter-widgets/controls",
            "_model_module_version": "1.5.0",
            "_model_name": "HBoxModel",
            "_view_count": null,
            "_view_module": "@jupyter-widgets/controls",
            "_view_module_version": "1.5.0",
            "_view_name": "HBoxView",
            "box_style": "",
            "children": [
              "IPY_MODEL_46724f914dfa4f4b931b5f8c13ef03e3",
              "IPY_MODEL_6ce0908acf3a4cfb9dc28b13701af7de",
              "IPY_MODEL_d326c36f8065458dab4b03d88e58d6ba"
            ],
            "layout": "IPY_MODEL_5fe4bfc435d24846a0e0e31ef22cc0dc"
          }
        },
        "46724f914dfa4f4b931b5f8c13ef03e3": {
          "model_module": "@jupyter-widgets/controls",
          "model_name": "HTMLModel",
          "model_module_version": "1.5.0",
          "state": {
            "_dom_classes": [],
            "_model_module": "@jupyter-widgets/controls",
            "_model_module_version": "1.5.0",
            "_model_name": "HTMLModel",
            "_view_count": null,
            "_view_module": "@jupyter-widgets/controls",
            "_view_module_version": "1.5.0",
            "_view_name": "HTMLView",
            "description": "",
            "description_tooltip": null,
            "layout": "IPY_MODEL_1cf4d6a02bbd419d8d2d72f49119becd",
            "placeholder": "​",
            "style": "IPY_MODEL_bad48c4c213b47358bfb7d4f79d34acf",
            "value": "100%"
          }
        },
        "6ce0908acf3a4cfb9dc28b13701af7de": {
          "model_module": "@jupyter-widgets/controls",
          "model_name": "FloatProgressModel",
          "model_module_version": "1.5.0",
          "state": {
            "_dom_classes": [],
            "_model_module": "@jupyter-widgets/controls",
            "_model_module_version": "1.5.0",
            "_model_name": "FloatProgressModel",
            "_view_count": null,
            "_view_module": "@jupyter-widgets/controls",
            "_view_module_version": "1.5.0",
            "_view_name": "ProgressView",
            "bar_style": "success",
            "description": "",
            "description_tooltip": null,
            "layout": "IPY_MODEL_b8cd97cd94324f28b273c1af25e328f8",
            "max": 1648877,
            "min": 0,
            "orientation": "horizontal",
            "style": "IPY_MODEL_681ffa5a8b534acabcf5a2e5209ec2cc",
            "value": 1648877
          }
        },
        "d326c36f8065458dab4b03d88e58d6ba": {
          "model_module": "@jupyter-widgets/controls",
          "model_name": "HTMLModel",
          "model_module_version": "1.5.0",
          "state": {
            "_dom_classes": [],
            "_model_module": "@jupyter-widgets/controls",
            "_model_module_version": "1.5.0",
            "_model_name": "HTMLModel",
            "_view_count": null,
            "_view_module": "@jupyter-widgets/controls",
            "_view_module_version": "1.5.0",
            "_view_name": "HTMLView",
            "description": "",
            "description_tooltip": null,
            "layout": "IPY_MODEL_e556de6c369041ca94cf4c42797a340c",
            "placeholder": "​",
            "style": "IPY_MODEL_53b47a758a694cb089f2f1a36dafab23",
            "value": " 1648877/1648877 [00:00&lt;00:00, 67400436.58it/s]"
          }
        },
        "5fe4bfc435d24846a0e0e31ef22cc0dc": {
          "model_module": "@jupyter-widgets/base",
          "model_name": "LayoutModel",
          "model_module_version": "1.2.0",
          "state": {
            "_model_module": "@jupyter-widgets/base",
            "_model_module_version": "1.2.0",
            "_model_name": "LayoutModel",
            "_view_count": null,
            "_view_module": "@jupyter-widgets/base",
            "_view_module_version": "1.2.0",
            "_view_name": "LayoutView",
            "align_content": null,
            "align_items": null,
            "align_self": null,
            "border": null,
            "bottom": null,
            "display": null,
            "flex": null,
            "flex_flow": null,
            "grid_area": null,
            "grid_auto_columns": null,
            "grid_auto_flow": null,
            "grid_auto_rows": null,
            "grid_column": null,
            "grid_gap": null,
            "grid_row": null,
            "grid_template_areas": null,
            "grid_template_columns": null,
            "grid_template_rows": null,
            "height": null,
            "justify_content": null,
            "justify_items": null,
            "left": null,
            "margin": null,
            "max_height": null,
            "max_width": null,
            "min_height": null,
            "min_width": null,
            "object_fit": null,
            "object_position": null,
            "order": null,
            "overflow": null,
            "overflow_x": null,
            "overflow_y": null,
            "padding": null,
            "right": null,
            "top": null,
            "visibility": null,
            "width": null
          }
        },
        "1cf4d6a02bbd419d8d2d72f49119becd": {
          "model_module": "@jupyter-widgets/base",
          "model_name": "LayoutModel",
          "model_module_version": "1.2.0",
          "state": {
            "_model_module": "@jupyter-widgets/base",
            "_model_module_version": "1.2.0",
            "_model_name": "LayoutModel",
            "_view_count": null,
            "_view_module": "@jupyter-widgets/base",
            "_view_module_version": "1.2.0",
            "_view_name": "LayoutView",
            "align_content": null,
            "align_items": null,
            "align_self": null,
            "border": null,
            "bottom": null,
            "display": null,
            "flex": null,
            "flex_flow": null,
            "grid_area": null,
            "grid_auto_columns": null,
            "grid_auto_flow": null,
            "grid_auto_rows": null,
            "grid_column": null,
            "grid_gap": null,
            "grid_row": null,
            "grid_template_areas": null,
            "grid_template_columns": null,
            "grid_template_rows": null,
            "height": null,
            "justify_content": null,
            "justify_items": null,
            "left": null,
            "margin": null,
            "max_height": null,
            "max_width": null,
            "min_height": null,
            "min_width": null,
            "object_fit": null,
            "object_position": null,
            "order": null,
            "overflow": null,
            "overflow_x": null,
            "overflow_y": null,
            "padding": null,
            "right": null,
            "top": null,
            "visibility": null,
            "width": null
          }
        },
        "bad48c4c213b47358bfb7d4f79d34acf": {
          "model_module": "@jupyter-widgets/controls",
          "model_name": "DescriptionStyleModel",
          "model_module_version": "1.5.0",
          "state": {
            "_model_module": "@jupyter-widgets/controls",
            "_model_module_version": "1.5.0",
            "_model_name": "DescriptionStyleModel",
            "_view_count": null,
            "_view_module": "@jupyter-widgets/base",
            "_view_module_version": "1.2.0",
            "_view_name": "StyleView",
            "description_width": ""
          }
        },
        "b8cd97cd94324f28b273c1af25e328f8": {
          "model_module": "@jupyter-widgets/base",
          "model_name": "LayoutModel",
          "model_module_version": "1.2.0",
          "state": {
            "_model_module": "@jupyter-widgets/base",
            "_model_module_version": "1.2.0",
            "_model_name": "LayoutModel",
            "_view_count": null,
            "_view_module": "@jupyter-widgets/base",
            "_view_module_version": "1.2.0",
            "_view_name": "LayoutView",
            "align_content": null,
            "align_items": null,
            "align_self": null,
            "border": null,
            "bottom": null,
            "display": null,
            "flex": null,
            "flex_flow": null,
            "grid_area": null,
            "grid_auto_columns": null,
            "grid_auto_flow": null,
            "grid_auto_rows": null,
            "grid_column": null,
            "grid_gap": null,
            "grid_row": null,
            "grid_template_areas": null,
            "grid_template_columns": null,
            "grid_template_rows": null,
            "height": null,
            "justify_content": null,
            "justify_items": null,
            "left": null,
            "margin": null,
            "max_height": null,
            "max_width": null,
            "min_height": null,
            "min_width": null,
            "object_fit": null,
            "object_position": null,
            "order": null,
            "overflow": null,
            "overflow_x": null,
            "overflow_y": null,
            "padding": null,
            "right": null,
            "top": null,
            "visibility": null,
            "width": null
          }
        },
        "681ffa5a8b534acabcf5a2e5209ec2cc": {
          "model_module": "@jupyter-widgets/controls",
          "model_name": "ProgressStyleModel",
          "model_module_version": "1.5.0",
          "state": {
            "_model_module": "@jupyter-widgets/controls",
            "_model_module_version": "1.5.0",
            "_model_name": "ProgressStyleModel",
            "_view_count": null,
            "_view_module": "@jupyter-widgets/base",
            "_view_module_version": "1.2.0",
            "_view_name": "StyleView",
            "bar_color": null,
            "description_width": ""
          }
        },
        "e556de6c369041ca94cf4c42797a340c": {
          "model_module": "@jupyter-widgets/base",
          "model_name": "LayoutModel",
          "model_module_version": "1.2.0",
          "state": {
            "_model_module": "@jupyter-widgets/base",
            "_model_module_version": "1.2.0",
            "_model_name": "LayoutModel",
            "_view_count": null,
            "_view_module": "@jupyter-widgets/base",
            "_view_module_version": "1.2.0",
            "_view_name": "LayoutView",
            "align_content": null,
            "align_items": null,
            "align_self": null,
            "border": null,
            "bottom": null,
            "display": null,
            "flex": null,
            "flex_flow": null,
            "grid_area": null,
            "grid_auto_columns": null,
            "grid_auto_flow": null,
            "grid_auto_rows": null,
            "grid_column": null,
            "grid_gap": null,
            "grid_row": null,
            "grid_template_areas": null,
            "grid_template_columns": null,
            "grid_template_rows": null,
            "height": null,
            "justify_content": null,
            "justify_items": null,
            "left": null,
            "margin": null,
            "max_height": null,
            "max_width": null,
            "min_height": null,
            "min_width": null,
            "object_fit": null,
            "object_position": null,
            "order": null,
            "overflow": null,
            "overflow_x": null,
            "overflow_y": null,
            "padding": null,
            "right": null,
            "top": null,
            "visibility": null,
            "width": null
          }
        },
        "53b47a758a694cb089f2f1a36dafab23": {
          "model_module": "@jupyter-widgets/controls",
          "model_name": "DescriptionStyleModel",
          "model_module_version": "1.5.0",
          "state": {
            "_model_module": "@jupyter-widgets/controls",
            "_model_module_version": "1.5.0",
            "_model_name": "DescriptionStyleModel",
            "_view_count": null,
            "_view_module": "@jupyter-widgets/base",
            "_view_module_version": "1.2.0",
            "_view_name": "StyleView",
            "description_width": ""
          }
        },
        "eb031aa528e74665a7c9076bb314c303": {
          "model_module": "@jupyter-widgets/controls",
          "model_name": "HBoxModel",
          "model_module_version": "1.5.0",
          "state": {
            "_dom_classes": [],
            "_model_module": "@jupyter-widgets/controls",
            "_model_module_version": "1.5.0",
            "_model_name": "HBoxModel",
            "_view_count": null,
            "_view_module": "@jupyter-widgets/controls",
            "_view_module_version": "1.5.0",
            "_view_name": "HBoxView",
            "box_style": "",
            "children": [
              "IPY_MODEL_001aaac127e4462bad90049023489444",
              "IPY_MODEL_fd8efa3254e04369a2e8e23317a6d7cf",
              "IPY_MODEL_e913b5bdc8574859a6490eed3e9b7419"
            ],
            "layout": "IPY_MODEL_be6e3e80d1bc4e2ca072ca01858daf8d"
          }
        },
        "001aaac127e4462bad90049023489444": {
          "model_module": "@jupyter-widgets/controls",
          "model_name": "HTMLModel",
          "model_module_version": "1.5.0",
          "state": {
            "_dom_classes": [],
            "_model_module": "@jupyter-widgets/controls",
            "_model_module_version": "1.5.0",
            "_model_name": "HTMLModel",
            "_view_count": null,
            "_view_module": "@jupyter-widgets/controls",
            "_view_module_version": "1.5.0",
            "_view_name": "HTMLView",
            "description": "",
            "description_tooltip": null,
            "layout": "IPY_MODEL_77064e5ff7164ee0b10a2bb8da4eaf2a",
            "placeholder": "​",
            "style": "IPY_MODEL_e8520659ef974d9f838ea7672453ae1b",
            "value": "100%"
          }
        },
        "fd8efa3254e04369a2e8e23317a6d7cf": {
          "model_module": "@jupyter-widgets/controls",
          "model_name": "FloatProgressModel",
          "model_module_version": "1.5.0",
          "state": {
            "_dom_classes": [],
            "_model_module": "@jupyter-widgets/controls",
            "_model_module_version": "1.5.0",
            "_model_name": "FloatProgressModel",
            "_view_count": null,
            "_view_module": "@jupyter-widgets/controls",
            "_view_module_version": "1.5.0",
            "_view_name": "ProgressView",
            "bar_style": "success",
            "description": "",
            "description_tooltip": null,
            "layout": "IPY_MODEL_59d321714ebc43448ed3bdfcf1218aff",
            "max": 4542,
            "min": 0,
            "orientation": "horizontal",
            "style": "IPY_MODEL_5746fd59c6e1417192d4a21605f429ea",
            "value": 4542
          }
        },
        "e913b5bdc8574859a6490eed3e9b7419": {
          "model_module": "@jupyter-widgets/controls",
          "model_name": "HTMLModel",
          "model_module_version": "1.5.0",
          "state": {
            "_dom_classes": [],
            "_model_module": "@jupyter-widgets/controls",
            "_model_module_version": "1.5.0",
            "_model_name": "HTMLModel",
            "_view_count": null,
            "_view_module": "@jupyter-widgets/controls",
            "_view_module_version": "1.5.0",
            "_view_name": "HTMLView",
            "description": "",
            "description_tooltip": null,
            "layout": "IPY_MODEL_105812d880ad4192ba8aec2191d1a682",
            "placeholder": "​",
            "style": "IPY_MODEL_a25dea33401445d0935630a3ef35adb6",
            "value": " 4542/4542 [00:00&lt;00:00, 375853.86it/s]"
          }
        },
        "be6e3e80d1bc4e2ca072ca01858daf8d": {
          "model_module": "@jupyter-widgets/base",
          "model_name": "LayoutModel",
          "model_module_version": "1.2.0",
          "state": {
            "_model_module": "@jupyter-widgets/base",
            "_model_module_version": "1.2.0",
            "_model_name": "LayoutModel",
            "_view_count": null,
            "_view_module": "@jupyter-widgets/base",
            "_view_module_version": "1.2.0",
            "_view_name": "LayoutView",
            "align_content": null,
            "align_items": null,
            "align_self": null,
            "border": null,
            "bottom": null,
            "display": null,
            "flex": null,
            "flex_flow": null,
            "grid_area": null,
            "grid_auto_columns": null,
            "grid_auto_flow": null,
            "grid_auto_rows": null,
            "grid_column": null,
            "grid_gap": null,
            "grid_row": null,
            "grid_template_areas": null,
            "grid_template_columns": null,
            "grid_template_rows": null,
            "height": null,
            "justify_content": null,
            "justify_items": null,
            "left": null,
            "margin": null,
            "max_height": null,
            "max_width": null,
            "min_height": null,
            "min_width": null,
            "object_fit": null,
            "object_position": null,
            "order": null,
            "overflow": null,
            "overflow_x": null,
            "overflow_y": null,
            "padding": null,
            "right": null,
            "top": null,
            "visibility": null,
            "width": null
          }
        },
        "77064e5ff7164ee0b10a2bb8da4eaf2a": {
          "model_module": "@jupyter-widgets/base",
          "model_name": "LayoutModel",
          "model_module_version": "1.2.0",
          "state": {
            "_model_module": "@jupyter-widgets/base",
            "_model_module_version": "1.2.0",
            "_model_name": "LayoutModel",
            "_view_count": null,
            "_view_module": "@jupyter-widgets/base",
            "_view_module_version": "1.2.0",
            "_view_name": "LayoutView",
            "align_content": null,
            "align_items": null,
            "align_self": null,
            "border": null,
            "bottom": null,
            "display": null,
            "flex": null,
            "flex_flow": null,
            "grid_area": null,
            "grid_auto_columns": null,
            "grid_auto_flow": null,
            "grid_auto_rows": null,
            "grid_column": null,
            "grid_gap": null,
            "grid_row": null,
            "grid_template_areas": null,
            "grid_template_columns": null,
            "grid_template_rows": null,
            "height": null,
            "justify_content": null,
            "justify_items": null,
            "left": null,
            "margin": null,
            "max_height": null,
            "max_width": null,
            "min_height": null,
            "min_width": null,
            "object_fit": null,
            "object_position": null,
            "order": null,
            "overflow": null,
            "overflow_x": null,
            "overflow_y": null,
            "padding": null,
            "right": null,
            "top": null,
            "visibility": null,
            "width": null
          }
        },
        "e8520659ef974d9f838ea7672453ae1b": {
          "model_module": "@jupyter-widgets/controls",
          "model_name": "DescriptionStyleModel",
          "model_module_version": "1.5.0",
          "state": {
            "_model_module": "@jupyter-widgets/controls",
            "_model_module_version": "1.5.0",
            "_model_name": "DescriptionStyleModel",
            "_view_count": null,
            "_view_module": "@jupyter-widgets/base",
            "_view_module_version": "1.2.0",
            "_view_name": "StyleView",
            "description_width": ""
          }
        },
        "59d321714ebc43448ed3bdfcf1218aff": {
          "model_module": "@jupyter-widgets/base",
          "model_name": "LayoutModel",
          "model_module_version": "1.2.0",
          "state": {
            "_model_module": "@jupyter-widgets/base",
            "_model_module_version": "1.2.0",
            "_model_name": "LayoutModel",
            "_view_count": null,
            "_view_module": "@jupyter-widgets/base",
            "_view_module_version": "1.2.0",
            "_view_name": "LayoutView",
            "align_content": null,
            "align_items": null,
            "align_self": null,
            "border": null,
            "bottom": null,
            "display": null,
            "flex": null,
            "flex_flow": null,
            "grid_area": null,
            "grid_auto_columns": null,
            "grid_auto_flow": null,
            "grid_auto_rows": null,
            "grid_column": null,
            "grid_gap": null,
            "grid_row": null,
            "grid_template_areas": null,
            "grid_template_columns": null,
            "grid_template_rows": null,
            "height": null,
            "justify_content": null,
            "justify_items": null,
            "left": null,
            "margin": null,
            "max_height": null,
            "max_width": null,
            "min_height": null,
            "min_width": null,
            "object_fit": null,
            "object_position": null,
            "order": null,
            "overflow": null,
            "overflow_x": null,
            "overflow_y": null,
            "padding": null,
            "right": null,
            "top": null,
            "visibility": null,
            "width": null
          }
        },
        "5746fd59c6e1417192d4a21605f429ea": {
          "model_module": "@jupyter-widgets/controls",
          "model_name": "ProgressStyleModel",
          "model_module_version": "1.5.0",
          "state": {
            "_model_module": "@jupyter-widgets/controls",
            "_model_module_version": "1.5.0",
            "_model_name": "ProgressStyleModel",
            "_view_count": null,
            "_view_module": "@jupyter-widgets/base",
            "_view_module_version": "1.2.0",
            "_view_name": "StyleView",
            "bar_color": null,
            "description_width": ""
          }
        },
        "105812d880ad4192ba8aec2191d1a682": {
          "model_module": "@jupyter-widgets/base",
          "model_name": "LayoutModel",
          "model_module_version": "1.2.0",
          "state": {
            "_model_module": "@jupyter-widgets/base",
            "_model_module_version": "1.2.0",
            "_model_name": "LayoutModel",
            "_view_count": null,
            "_view_module": "@jupyter-widgets/base",
            "_view_module_version": "1.2.0",
            "_view_name": "LayoutView",
            "align_content": null,
            "align_items": null,
            "align_self": null,
            "border": null,
            "bottom": null,
            "display": null,
            "flex": null,
            "flex_flow": null,
            "grid_area": null,
            "grid_auto_columns": null,
            "grid_auto_flow": null,
            "grid_auto_rows": null,
            "grid_column": null,
            "grid_gap": null,
            "grid_row": null,
            "grid_template_areas": null,
            "grid_template_columns": null,
            "grid_template_rows": null,
            "height": null,
            "justify_content": null,
            "justify_items": null,
            "left": null,
            "margin": null,
            "max_height": null,
            "max_width": null,
            "min_height": null,
            "min_width": null,
            "object_fit": null,
            "object_position": null,
            "order": null,
            "overflow": null,
            "overflow_x": null,
            "overflow_y": null,
            "padding": null,
            "right": null,
            "top": null,
            "visibility": null,
            "width": null
          }
        },
        "a25dea33401445d0935630a3ef35adb6": {
          "model_module": "@jupyter-widgets/controls",
          "model_name": "DescriptionStyleModel",
          "model_module_version": "1.5.0",
          "state": {
            "_model_module": "@jupyter-widgets/controls",
            "_model_module_version": "1.5.0",
            "_model_name": "DescriptionStyleModel",
            "_view_count": null,
            "_view_module": "@jupyter-widgets/base",
            "_view_module_version": "1.2.0",
            "_view_name": "StyleView",
            "description_width": ""
          }
        }
      }
    }
  },
  "nbformat": 4,
  "nbformat_minor": 0
}